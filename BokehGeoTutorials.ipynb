{
 "cells": [
  {
   "cell_type": "markdown",
   "metadata": {},
   "source": [
    "## Tile Provider Maps\n",
    "\n",
    "Bokeh plots can also consume XYZ tile services which use the Web Mercator projection. The module [bokeh.tile_providers](https://docs.bokeh.org/en/latest/docs/reference/tile_providers.html#bokeh-tile-providers) contains several pre-configured tile sources with appropriate attribution which can be added to a plot using the [add_tile()](https://docs.bokeh.org/en/latest/docs/reference/models/plots.html#bokeh.models.plots.Plot.add_tile) method."
   ]
  },
  {
   "cell_type": "markdown",
   "metadata": {},
   "source": [
    "### Supplier: [CartoDB](https://carto.com/blog/getting-to-know-positron-and-dark-matter/)"
   ]
  },
  {
   "cell_type": "markdown",
   "metadata": {},
   "source": [
    "There doesn’t seem to be a day that goes by anymore without us seeing some far out data visualization using CartoDB"
   ]
  },
  {
   "cell_type": "markdown",
   "metadata": {},
   "source": [
    "They will give your viewers geospatial context while they zoom around your maps. The maps come in two color themes so that you can make your data shine in any scenario. And we give you the ability to use either map with or without labels, helping you customize any map.\n",
    "\n",
    "These maps are built using data from OpenStreetMap, which means that they are up-to-date with the latest data coming from mapping efforts around the world. It means that if you see pieces missing, you have the ability to update or edit those features directly from your browser.\n"
   ]
  },
  {
   "cell_type": "markdown",
   "metadata": {},
   "source": [
    "Web Mercator, Google Web Mercator, Spherical Mercator, WGS 84 Web Mercator or WGS 84/Pseudo-Mercator is a variant of the Mercator projection and is the de facto standard for Web mapping applications. It rose to prominence when Google Maps adopted it in 2005."
   ]
  },
  {
   "cell_type": "code",
   "execution_count": 1,
   "metadata": {},
   "outputs": [
    {
     "ename": "ImportError",
     "evalue": "cannot import name 'get_provider'",
     "output_type": "error",
     "traceback": [
      "\u001b[0;31m---------------------------------------------------------------------------\u001b[0m",
      "\u001b[0;31mImportError\u001b[0m                               Traceback (most recent call last)",
      "\u001b[0;32m<ipython-input-1-c3063e58f53b>\u001b[0m in \u001b[0;36m<module>\u001b[0;34m\u001b[0m\n\u001b[1;32m      1\u001b[0m \u001b[0;32mfrom\u001b[0m \u001b[0mbokeh\u001b[0m\u001b[0;34m.\u001b[0m\u001b[0mplotting\u001b[0m \u001b[0;32mimport\u001b[0m \u001b[0mfigure\u001b[0m\u001b[0;34m,\u001b[0m \u001b[0moutput_notebook\u001b[0m\u001b[0;34m,\u001b[0m \u001b[0mshow\u001b[0m\u001b[0;34m\u001b[0m\u001b[0;34m\u001b[0m\u001b[0m\n\u001b[0;32m----> 2\u001b[0;31m \u001b[0;32mfrom\u001b[0m \u001b[0mbokeh\u001b[0m\u001b[0;34m.\u001b[0m\u001b[0mtile_providers\u001b[0m \u001b[0;32mimport\u001b[0m \u001b[0mget_provider\u001b[0m\u001b[0;34m\u001b[0m\u001b[0;34m\u001b[0m\u001b[0m\n\u001b[0m\u001b[1;32m      3\u001b[0m \u001b[0;32mfrom\u001b[0m \u001b[0mbokeh\u001b[0m\u001b[0;34m.\u001b[0m\u001b[0mtile_providers\u001b[0m \u001b[0;32mimport\u001b[0m \u001b[0mVendors\u001b[0m\u001b[0;34m\u001b[0m\u001b[0;34m\u001b[0m\u001b[0m\n\u001b[1;32m      4\u001b[0m \u001b[0;32mfrom\u001b[0m \u001b[0mbokeh\u001b[0m\u001b[0;34m.\u001b[0m\u001b[0mio\u001b[0m \u001b[0;32mimport\u001b[0m \u001b[0mreset_output\u001b[0m\u001b[0;34m\u001b[0m\u001b[0;34m\u001b[0m\u001b[0m\n\u001b[1;32m      5\u001b[0m \u001b[0;34m\u001b[0m\u001b[0m\n",
      "\u001b[0;31mImportError\u001b[0m: cannot import name 'get_provider'"
     ]
    }
   ],
   "source": [
    "from bokeh.plotting import figure, output_notebook, show\n",
    "from bokeh.tile_providers import get_provider\n",
    "from bokeh.tile_providers import Vendors\n",
    "from bokeh.io import reset_output\n",
    "\n",
    "reset_output()\n",
    "output_notebook()\n",
    "\n",
    "tile_provider = get_provider(Vendors.CARTODBPOSITRON_RETINA)\n",
    "\n",
    "# range bounds supplied in web mercator coordinates\n",
    "p = figure(x_range=(-20000000, 6000000), y_range=(-1000000, 7000000),\n",
    "           x_axis_type=\"mercator\", y_axis_type=\"mercator\")\n",
    "p.add_tile(tile_provider)\n",
    "\n",
    "show(p)"
   ]
  },
  {
   "cell_type": "markdown",
   "metadata": {},
   "source": [
    "Notice also that passing x_axis_type=\"mercator\" and y_axis_type=\"mercator\" to figure generate axes with latitude and longitude labels, instead of raw Web Mercator coordinates."
   ]
  },
  {
   "cell_type": "markdown",
   "metadata": {},
   "source": [
    "Lmao to use Google Maps you need an [API Key](https://datantify.com/lab/nearplace/blog/how-to-generate-google-map-api-key-for-free/)...\n",
    "\n",
    "If you're like me and are wary of google in general. Check these [out](https://datantify.com/lab/nearplace/blog/google-maps-api-alternatives/).\n",
    "\n",
    "You can use google maps and the instructions can be found [here](https://docs.bokeh.org/en/latest/docs/user_guide/geo.html)"
   ]
  },
  {
   "cell_type": "code",
   "execution_count": 2,
   "metadata": {},
   "outputs": [
    {
     "ename": "NameError",
     "evalue": "name 'Vendors' is not defined",
     "output_type": "error",
     "traceback": [
      "\u001b[0;31m---------------------------------------------------------------------------\u001b[0m",
      "\u001b[0;31mNameError\u001b[0m                                 Traceback (most recent call last)",
      "\u001b[0;32m<ipython-input-2-d49ed12351d5>\u001b[0m in \u001b[0;36m<module>\u001b[0;34m\u001b[0m\n\u001b[0;32m----> 1\u001b[0;31m \u001b[0;32mfor\u001b[0m \u001b[0mi\u001b[0m \u001b[0;32min\u001b[0m \u001b[0menumerate\u001b[0m\u001b[0;34m(\u001b[0m\u001b[0mVendors\u001b[0m\u001b[0;34m)\u001b[0m\u001b[0;34m:\u001b[0m\u001b[0;34m\u001b[0m\u001b[0;34m\u001b[0m\u001b[0m\n\u001b[0m\u001b[1;32m      2\u001b[0m     \u001b[0mprint\u001b[0m\u001b[0;34m(\u001b[0m\u001b[0mi\u001b[0m\u001b[0;34m)\u001b[0m\u001b[0;34m\u001b[0m\u001b[0;34m\u001b[0m\u001b[0m\n",
      "\u001b[0;31mNameError\u001b[0m: name 'Vendors' is not defined"
     ]
    }
   ],
   "source": [
    "for i in enumerate(Vendors):\n",
    "    print(i)"
   ]
  },
  {
   "cell_type": "code",
   "execution_count": null,
   "metadata": {},
   "outputs": [],
   "source": [
    "from bokeh.plotting import figure, output_notebook, show\n",
    "from bokeh.tile_providers import get_provider\n",
    "from bokeh.tile_providers import Vendors\n",
    "\n",
    "output_notebook()\n",
    "\n",
    "tile_provider = get_provider(Vendors.STAMEN_TERRAIN_RETINA)\n",
    "\n",
    "# range bounds supplied in web mercator coordinates\n",
    "p = figure(x_range=(-20000000, 6000000), y_range=(-1000000, 7000000),\n",
    "           x_axis_type=\"mercator\", y_axis_type=\"mercator\")\n",
    "p.add_tile(tile_provider)\n",
    "\n",
    "show(p)"
   ]
  },
  {
   "cell_type": "markdown",
   "metadata": {},
   "source": [
    "### GeoJSON Data\n",
    "\n",
    "GeoJSON is a popular open standard for representing geographical features with JSON. It describes points, lines, and polygons (called Patches in Bokeh) as a collection of features. Each feature can also have a set of properties.\n",
    "\n",
    "Bokeh’s GeoJSONDataSource can be used almost seamlessly in place of Bokeh’s ColumnDataSource"
   ]
  },
  {
   "cell_type": "code",
   "execution_count": null,
   "metadata": {},
   "outputs": [],
   "source": [
    "import json\n",
    "\n",
    "from bokeh.io import output_file, show\n",
    "from bokeh.models import GeoJSONDataSource\n",
    "from bokeh.plotting import figure\n",
    "from bokeh.sampledata.sample_geojson import geojson\n",
    "\n",
    "output_notebook()\n",
    "\n",
    "data = json.loads(geojson)\n",
    "\n",
    "\n",
    "data = json.loads(geojson)\n",
    "for i in range(len(data['features'])):\n",
    "    data['features'][i]['properties']['Color'] = ['blue', 'red'][i%2]\n",
    "\n",
    "geo_source = GeoJSONDataSource(geojson=json.dumps(data))\n",
    "\n",
    "TOOLTIPS = [\n",
    "    ('Organisation', '@OrganisationName')\n",
    "]\n",
    "\n",
    "p = figure(background_fill_color=\"lightgrey\", tooltips=TOOLTIPS)\n",
    "p.circle(x='x', y='y', size=15, color='Color', alpha=0.7, source=geo_source)\n",
    "\n",
    "show(p)\n"
   ]
  },
  {
   "cell_type": "markdown",
   "metadata": {},
   "source": [
    "## Walkthrough: Mapping Basics with Bokeh and GeoPandas in Python \n",
    "\n",
    "From data and files to a static map to an interactive map"
   ]
  },
  {
   "cell_type": "markdown",
   "metadata": {},
   "source": [
    "Geopandas is an open source package that helps users work with geospatial data. GeoPandas has a number of dependencies. One of those dependencies is shapely, and it is on this library that Geopandas relies for performing geometric operations. In our case the shape of each state will be encoded as a polygon or multipolygon via the shapely package. Then used through Geopandas to understandd the geospatial data"
   ]
  },
  {
   "cell_type": "markdown",
   "metadata": {},
   "source": [
    "Goal 1: Create a mpa of the contiguous US that shows the state population. Within each state, show where lead was found in 2018. \n",
    "\n",
    "In order to create a map, you will need a shapefile (.shp). In this case, download a shapefile from the US Census Bureau.\n",
    "\n",
    "For a variety of shapefiles look [here](https://www.census.gov/geographies/mapping-files/time-series/geo/carto-boundary-file.html)"
   ]
  },
  {
   "cell_type": "code",
   "execution_count": 12,
   "metadata": {},
   "outputs": [],
   "source": [
    "import pandas as pd\n",
    "import numpy as np\n",
    "import re \n",
    "import geopandas as gpd\n",
    "import pandas as pd\n",
    "import json"
   ]
  },
  {
   "cell_type": "code",
   "execution_count": 13,
   "metadata": {},
   "outputs": [],
   "source": [
    "contiguous_usa = gpd.read_file('map_data/cb_2018_us_state_500k/cb_2018_us_state_500k.shp')\n",
    "urban_areas_usa = gpd.read_file('map_data/cb_2018_us_ua10_500k/cb_2018_us_ua10_500k.shp')\n",
    "\n",
    "# Remove Alaska and Hawaii\n",
    "contiguous_usa= contiguous_usa.loc[~contiguous_usa['NAME'].isin(['Alaska', 'Hawaii'])]"
   ]
  },
  {
   "cell_type": "markdown",
   "metadata": {},
   "source": [
    "Each state has a corresponding geometry which can be visualized as above."
   ]
  },
  {
   "cell_type": "code",
   "execution_count": 3,
   "metadata": {},
   "outputs": [
    {
     "data": {
      "image/svg+xml": [
       "<svg xmlns=\"http://www.w3.org/2000/svg\" xmlns:xlink=\"http://www.w3.org/1999/xlink\" width=\"100.0\" height=\"100.0\" viewBox=\"-120.56558744 41.477911559999995 0.03665088000001049 0.03610488000000345\" preserveAspectRatio=\"xMinYMin meet\"><g transform=\"matrix(1,0,0,-1,0,82.991928)\"><g><path fill-rule=\"evenodd\" fill=\"#66cc99\" stroke=\"#555555\" stroke-width=\"0.0007330176000002098\" opacity=\"0.6\" d=\"M -120.546103,41.512639 L -120.545935,41.512659 L -120.54463,41.512432 L -120.545012,41.501849 L -120.545045,41.501776 L -120.546211,41.501793 L -120.546103,41.512639 z\" /><path fill-rule=\"evenodd\" fill=\"#66cc99\" stroke=\"#555555\" stroke-width=\"0.0007330176000002098\" opacity=\"0.6\" d=\"M -120.56423,41.494569 L -120.559414,41.494572999999995 L -120.559518,41.499905 L -120.545174,41.499901 L -120.545174,41.501642 L -120.545045,41.501776 L -120.541594,41.501697 L -120.540076,41.499877999999995 L -120.535129,41.500372999999996 L -120.535207,41.490902 L -120.530294,41.490826 L -120.530481,41.489152 L -120.532746,41.489177999999995 L -120.532945,41.487487 L -120.53721999999999,41.487398 L -120.538093,41.484943 L -120.538398,41.481997 L -120.536044,41.482375999999995 L -120.535252,41.480008 L -120.542405,41.480048 L -120.545355,41.479268999999995 L -120.545011,41.480002999999996 L -120.55453299999999,41.479957 L -120.554557,41.48095 L -120.559293,41.480972 L -120.55933,41.487300000000005 L -120.56240700000001,41.487764999999996 L -120.56243599999999,41.489976999999996 L -120.564116,41.490024999999996 L -120.56423,41.494569 z\" /></g></g></svg>"
      ],
      "text/plain": [
       "<shapely.geometry.multipolygon.MultiPolygon at 0x7fdc4c932a20>"
      ]
     },
     "execution_count": 3,
     "metadata": {},
     "output_type": "execute_result"
    }
   ],
   "source": [
    "urban_areas_usa.iloc[1]['geometry']"
   ]
  },
  {
   "cell_type": "code",
   "execution_count": 14,
   "metadata": {},
   "outputs": [
    {
     "data": {
      "text/html": [
       "<div>\n",
       "<style scoped>\n",
       "    .dataframe tbody tr th:only-of-type {\n",
       "        vertical-align: middle;\n",
       "    }\n",
       "\n",
       "    .dataframe tbody tr th {\n",
       "        vertical-align: top;\n",
       "    }\n",
       "\n",
       "    .dataframe thead th {\n",
       "        text-align: right;\n",
       "    }\n",
       "</style>\n",
       "<table border=\"1\" class=\"dataframe\">\n",
       "  <thead>\n",
       "    <tr style=\"text-align: right;\">\n",
       "      <th></th>\n",
       "      <th>UACE10</th>\n",
       "      <th>AFFGEOID10</th>\n",
       "      <th>GEOID10</th>\n",
       "      <th>city_name</th>\n",
       "      <th>LSAD10</th>\n",
       "      <th>UATYP10</th>\n",
       "      <th>ALAND10</th>\n",
       "      <th>AWATER10</th>\n",
       "      <th>geometry</th>\n",
       "    </tr>\n",
       "  </thead>\n",
       "  <tbody>\n",
       "    <tr>\n",
       "      <th>0</th>\n",
       "      <td>88732</td>\n",
       "      <td>400C100US88732</td>\n",
       "      <td>88732</td>\n",
       "      <td>Tucson, AZ</td>\n",
       "      <td>75</td>\n",
       "      <td>U</td>\n",
       "      <td>915276150</td>\n",
       "      <td>2078695</td>\n",
       "      <td>MULTIPOLYGON (((-110.81345 32.11910, -110.7987...</td>\n",
       "    </tr>\n",
       "    <tr>\n",
       "      <th>1</th>\n",
       "      <td>01819</td>\n",
       "      <td>400C100US01819</td>\n",
       "      <td>01819</td>\n",
       "      <td>Alturas, CA</td>\n",
       "      <td>76</td>\n",
       "      <td>C</td>\n",
       "      <td>4933312</td>\n",
       "      <td>16517</td>\n",
       "      <td>MULTIPOLYGON (((-120.54610 41.51264, -120.5459...</td>\n",
       "    </tr>\n",
       "    <tr>\n",
       "      <th>2</th>\n",
       "      <td>22366</td>\n",
       "      <td>400C100US22366</td>\n",
       "      <td>22366</td>\n",
       "      <td>Davenport, IA--IL</td>\n",
       "      <td>75</td>\n",
       "      <td>U</td>\n",
       "      <td>357345121</td>\n",
       "      <td>21444164</td>\n",
       "      <td>MULTIPOLYGON (((-90.36678 41.53636, -90.36462 ...</td>\n",
       "    </tr>\n",
       "    <tr>\n",
       "      <th>3</th>\n",
       "      <td>93322</td>\n",
       "      <td>400C100US93322</td>\n",
       "      <td>93322</td>\n",
       "      <td>Waynesboro, PA--MD</td>\n",
       "      <td>76</td>\n",
       "      <td>C</td>\n",
       "      <td>45455957</td>\n",
       "      <td>88872</td>\n",
       "      <td>MULTIPOLYGON (((-77.50746 39.71577, -77.50605 ...</td>\n",
       "    </tr>\n",
       "    <tr>\n",
       "      <th>4</th>\n",
       "      <td>02548</td>\n",
       "      <td>400C100US02548</td>\n",
       "      <td>02548</td>\n",
       "      <td>Angola, IN</td>\n",
       "      <td>76</td>\n",
       "      <td>C</td>\n",
       "      <td>23646957</td>\n",
       "      <td>3913803</td>\n",
       "      <td>MULTIPOLYGON (((-85.01157 41.59300, -85.00589 ...</td>\n",
       "    </tr>\n",
       "  </tbody>\n",
       "</table>\n",
       "</div>"
      ],
      "text/plain": [
       "  UACE10      AFFGEOID10 GEOID10           city_name LSAD10 UATYP10  \\\n",
       "0  88732  400C100US88732   88732          Tucson, AZ     75       U   \n",
       "1  01819  400C100US01819   01819         Alturas, CA     76       C   \n",
       "2  22366  400C100US22366   22366   Davenport, IA--IL     75       U   \n",
       "3  93322  400C100US93322   93322  Waynesboro, PA--MD     76       C   \n",
       "4  02548  400C100US02548   02548          Angola, IN     76       C   \n",
       "\n",
       "     ALAND10  AWATER10                                           geometry  \n",
       "0  915276150   2078695  MULTIPOLYGON (((-110.81345 32.11910, -110.7987...  \n",
       "1    4933312     16517  MULTIPOLYGON (((-120.54610 41.51264, -120.5459...  \n",
       "2  357345121  21444164  MULTIPOLYGON (((-90.36678 41.53636, -90.36462 ...  \n",
       "3   45455957     88872  MULTIPOLYGON (((-77.50746 39.71577, -77.50605 ...  \n",
       "4   23646957   3913803  MULTIPOLYGON (((-85.01157 41.59300, -85.00589 ...  "
      ]
     },
     "execution_count": 14,
     "metadata": {},
     "output_type": "execute_result"
    }
   ],
   "source": [
    "urban_areas_usa = urban_areas_usa.rename(columns={\"NAME10\": \"city_name\"})\n",
    "urban_areas_usa.head()"
   ]
  },
  {
   "cell_type": "code",
   "execution_count": 15,
   "metadata": {},
   "outputs": [],
   "source": [
    "def border_states_redacted(name):\n",
    "    if ('--' in name):\n",
    "        entry_split= name.split(',')\n",
    "        city_name=entry_split[0]\n",
    "        states = entry_split[1].split('--')\n",
    "        for i in states:\n",
    "            print(city_name,i)\n",
    "            \n",
    "def border_states(name):\n",
    "    if ('--' in name):\n",
    "        entry_split= name.split(',')\n",
    "        city_name= entry_split[0].split('--')[0]\n",
    "        state = entry_split[1].split('--')[0]\n",
    "        return ','.join([city_name,state])\n",
    "    else: \n",
    "        return name\n",
    "    \n",
    "urban_areas_usa['city_name'] = urban_areas_usa['city_name'].apply(border_states)\n",
    "urban_areas_usa.loc[urban_areas_usa['city_name'].loc[urban_areas_usa['city_name']=='Nashville-Davidson, TN'].index.values[0],'city_name'] = 'Nashville, TN' \n",
    "urban_areas_usa.loc[urban_areas_usa['city_name'].loc[urban_areas_usa['city_name']=='Lexington-Fayette, KY'].index.values[0],'city_name'] = 'Lexington, KY' "
   ]
  },
  {
   "cell_type": "markdown",
   "metadata": {},
   "source": [
    "### Let's Load the Budget Dataset"
   ]
  },
  {
   "cell_type": "code",
   "execution_count": 16,
   "metadata": {},
   "outputs": [
    {
     "data": {
      "text/html": [
       "<div>\n",
       "<style scoped>\n",
       "    .dataframe tbody tr th:only-of-type {\n",
       "        vertical-align: middle;\n",
       "    }\n",
       "\n",
       "    .dataframe tbody tr th {\n",
       "        vertical-align: top;\n",
       "    }\n",
       "\n",
       "    .dataframe thead th {\n",
       "        text-align: right;\n",
       "    }\n",
       "</style>\n",
       "<table border=\"1\" class=\"dataframe\">\n",
       "  <thead>\n",
       "    <tr style=\"text-align: right;\">\n",
       "      <th></th>\n",
       "      <th>year</th>\n",
       "      <th>city_name</th>\n",
       "      <th>id_city</th>\n",
       "      <th>city_population</th>\n",
       "      <th>cpi</th>\n",
       "      <th>rev_total_city</th>\n",
       "      <th>rev_general_city</th>\n",
       "      <th>intergovt_rev_city</th>\n",
       "      <th>igr_federal_city</th>\n",
       "      <th>igr_state_city</th>\n",
       "      <th>...</th>\n",
       "      <th>cash_other_other</th>\n",
       "      <th>county_name</th>\n",
       "      <th>id_county</th>\n",
       "      <th>county_population</th>\n",
       "      <th>relationship_city_school</th>\n",
       "      <th>enrollment</th>\n",
       "      <th>districts_in_city</th>\n",
       "      <th>consolidated_govt</th>\n",
       "      <th>city_merge_name</th>\n",
       "      <th>state</th>\n",
       "    </tr>\n",
       "  </thead>\n",
       "  <tbody>\n",
       "    <tr>\n",
       "      <th>40</th>\n",
       "      <td>2017</td>\n",
       "      <td>AK: Anchorage</td>\n",
       "      <td>22002001.0</td>\n",
       "      <td>297216</td>\n",
       "      <td>1.0</td>\n",
       "      <td>5694.71</td>\n",
       "      <td>4819.11</td>\n",
       "      <td>2087.49</td>\n",
       "      <td>130.60</td>\n",
       "      <td>1956.89</td>\n",
       "      <td>...</td>\n",
       "      <td>2011.64</td>\n",
       "      <td>NaN</td>\n",
       "      <td>NaN</td>\n",
       "      <td>NaN</td>\n",
       "      <td>4.0</td>\n",
       "      <td>NaN</td>\n",
       "      <td>NaN</td>\n",
       "      <td>1.0</td>\n",
       "      <td>Anchorage, AK</td>\n",
       "      <td>AK</td>\n",
       "    </tr>\n",
       "    <tr>\n",
       "      <th>81</th>\n",
       "      <td>2017</td>\n",
       "      <td>AK: Fairbanks</td>\n",
       "      <td>22006001.0</td>\n",
       "      <td>32015</td>\n",
       "      <td>1.0</td>\n",
       "      <td>1875.06</td>\n",
       "      <td>1875.06</td>\n",
       "      <td>654.10</td>\n",
       "      <td>4.09</td>\n",
       "      <td>650.01</td>\n",
       "      <td>...</td>\n",
       "      <td>6009.89</td>\n",
       "      <td>Fairbanks North Star</td>\n",
       "      <td>21006002.0</td>\n",
       "      <td>100683.0</td>\n",
       "      <td>5.0</td>\n",
       "      <td>NaN</td>\n",
       "      <td>NaN</td>\n",
       "      <td>0.0</td>\n",
       "      <td>Fairbanks, AK</td>\n",
       "      <td>AK</td>\n",
       "    </tr>\n",
       "    <tr>\n",
       "      <th>122</th>\n",
       "      <td>2017</td>\n",
       "      <td>AL: Birmingham</td>\n",
       "      <td>12037003.0</td>\n",
       "      <td>211436</td>\n",
       "      <td>1.0</td>\n",
       "      <td>3655.60</td>\n",
       "      <td>2424.82</td>\n",
       "      <td>213.32</td>\n",
       "      <td>45.73</td>\n",
       "      <td>167.59</td>\n",
       "      <td>...</td>\n",
       "      <td>2879.90</td>\n",
       "      <td>Jefferson</td>\n",
       "      <td>11037037.0</td>\n",
       "      <td>660326.0</td>\n",
       "      <td>1.0</td>\n",
       "      <td>24693.0</td>\n",
       "      <td>1.0</td>\n",
       "      <td>0.0</td>\n",
       "      <td>Birmingham, AL</td>\n",
       "      <td>AL</td>\n",
       "    </tr>\n",
       "    <tr>\n",
       "      <th>163</th>\n",
       "      <td>2017</td>\n",
       "      <td>AL: Mobile</td>\n",
       "      <td>12049004.0</td>\n",
       "      <td>191885</td>\n",
       "      <td>1.0</td>\n",
       "      <td>2408.76</td>\n",
       "      <td>2083.78</td>\n",
       "      <td>90.65</td>\n",
       "      <td>43.90</td>\n",
       "      <td>46.75</td>\n",
       "      <td>...</td>\n",
       "      <td>1497.00</td>\n",
       "      <td>Mobile</td>\n",
       "      <td>11049049.0</td>\n",
       "      <td>415499.0</td>\n",
       "      <td>2.0</td>\n",
       "      <td>25673.0</td>\n",
       "      <td>1.0</td>\n",
       "      <td>0.0</td>\n",
       "      <td>Mobile, AL</td>\n",
       "      <td>AL</td>\n",
       "    </tr>\n",
       "    <tr>\n",
       "      <th>204</th>\n",
       "      <td>2017</td>\n",
       "      <td>AL: Montgomery</td>\n",
       "      <td>12051001.0</td>\n",
       "      <td>200360</td>\n",
       "      <td>1.0</td>\n",
       "      <td>1889.79</td>\n",
       "      <td>1339.40</td>\n",
       "      <td>141.95</td>\n",
       "      <td>24.14</td>\n",
       "      <td>117.81</td>\n",
       "      <td>...</td>\n",
       "      <td>1797.75</td>\n",
       "      <td>Montgomery</td>\n",
       "      <td>11051051.0</td>\n",
       "      <td>227072.0</td>\n",
       "      <td>2.0</td>\n",
       "      <td>28347.0</td>\n",
       "      <td>1.0</td>\n",
       "      <td>0.0</td>\n",
       "      <td>Montgomery, AL</td>\n",
       "      <td>AL</td>\n",
       "    </tr>\n",
       "  </tbody>\n",
       "</table>\n",
       "<p>5 rows × 664 columns</p>\n",
       "</div>"
      ],
      "text/plain": [
       "     year       city_name     id_city  city_population  cpi  rev_total_city  \\\n",
       "40   2017   AK: Anchorage  22002001.0           297216  1.0         5694.71   \n",
       "81   2017   AK: Fairbanks  22006001.0            32015  1.0         1875.06   \n",
       "122  2017  AL: Birmingham  12037003.0           211436  1.0         3655.60   \n",
       "163  2017      AL: Mobile  12049004.0           191885  1.0         2408.76   \n",
       "204  2017  AL: Montgomery  12051001.0           200360  1.0         1889.79   \n",
       "\n",
       "     rev_general_city  intergovt_rev_city  igr_federal_city  igr_state_city  \\\n",
       "40            4819.11             2087.49            130.60         1956.89   \n",
       "81            1875.06              654.10              4.09          650.01   \n",
       "122           2424.82              213.32             45.73          167.59   \n",
       "163           2083.78               90.65             43.90           46.75   \n",
       "204           1339.40              141.95             24.14          117.81   \n",
       "\n",
       "     ...  cash_other_other           county_name   id_county  \\\n",
       "40   ...           2011.64                   NaN         NaN   \n",
       "81   ...           6009.89  Fairbanks North Star  21006002.0   \n",
       "122  ...           2879.90             Jefferson  11037037.0   \n",
       "163  ...           1497.00                Mobile  11049049.0   \n",
       "204  ...           1797.75            Montgomery  11051051.0   \n",
       "\n",
       "     county_population  relationship_city_school  enrollment  \\\n",
       "40                 NaN                       4.0         NaN   \n",
       "81            100683.0                       5.0         NaN   \n",
       "122           660326.0                       1.0     24693.0   \n",
       "163           415499.0                       2.0     25673.0   \n",
       "204           227072.0                       2.0     28347.0   \n",
       "\n",
       "     districts_in_city  consolidated_govt  city_merge_name  state  \n",
       "40                 NaN                1.0    Anchorage, AK     AK  \n",
       "81                 NaN                0.0    Fairbanks, AK     AK  \n",
       "122                1.0                0.0   Birmingham, AL     AL  \n",
       "163                1.0                0.0       Mobile, AL     AL  \n",
       "204                1.0                0.0   Montgomery, AL     AL  \n",
       "\n",
       "[5 rows x 664 columns]"
      ]
     },
     "execution_count": 16,
     "metadata": {},
     "output_type": "execute_result"
    }
   ],
   "source": [
    "filepath= 'data/demographics/budgets.csv'\n",
    "budgets_df = pd.read_csv(filepath)\n",
    "\n",
    "def convert_name(name):\n",
    "    nm_list = name.split(':')[::-1]\n",
    "    return ', '.join(nm_list).strip()\n",
    "    \n",
    "budgets_df['city_merge_name'] = budgets_df['city_name'].apply(convert_name)\n",
    "budgets_df['state'] = budgets_df['city_name'].apply(lambda name:name.split(\":\")[0])\n",
    "budgets_df[budgets_df.year==2017].head()"
   ]
  },
  {
   "cell_type": "markdown",
   "metadata": {},
   "source": [
    "### Let's Merge The Datasets"
   ]
  },
  {
   "cell_type": "code",
   "execution_count": 17,
   "metadata": {},
   "outputs": [
    {
     "data": {
      "text/plain": [
       "0        Tucson, AZ\n",
       "1    Charleston, SC\n",
       "2     Worcester, MA\n",
       "3     Las Vegas, NV\n",
       "4     Fairbanks, AK\n",
       "Name: city_name, dtype: object"
      ]
     },
     "execution_count": 17,
     "metadata": {},
     "output_type": "execute_result"
    }
   ],
   "source": [
    "merged_df = urban_areas_usa.merge(budgets_df[budgets_df.year==2017],left_on='city_name',right_on = 'city_merge_name',how='inner').rename(columns={\"city_name_x\": \"city_name\"})\n",
    "merged_df.city_name[:5]"
   ]
  },
  {
   "cell_type": "markdown",
   "metadata": {},
   "source": [
    "### Let's make sure Nashville is in there"
   ]
  },
  {
   "cell_type": "code",
   "execution_count": 8,
   "metadata": {},
   "outputs": [
    {
     "name": "stdout",
     "output_type": "stream",
     "text": [
      "Nashville, TN\n",
      "Knoxville, TN\n",
      "Chattanooga, TN\n",
      "Memphis, TN\n"
     ]
    }
   ],
   "source": [
    "for i in merged_df.city_name.values:\n",
    "    if('TN' in i):\n",
    "        print(i)"
   ]
  },
  {
   "cell_type": "markdown",
   "metadata": {},
   "source": [
    "Now that we have merged the data and limited it to the contiguous USA, we can convert the data to a format that is conducive to mapping"
   ]
  },
  {
   "cell_type": "code",
   "execution_count": 13,
   "metadata": {},
   "outputs": [],
   "source": [
    "import json\n",
    "from bokeh.io import show, output_notebook,output_file\n",
    "from bokeh.resources import INLINE\n",
    "from bokeh.models import (CDSView, ColorBar, ColumnDataSource,\n",
    "                          CustomJS, CustomJSFilter, \n",
    "                          GeoJSONDataSource, HoverTool,\n",
    "                          LinearColorMapper, Slider)\n",
    "from bokeh.layouts import column, row, widgetbox\n",
    "from bokeh.palettes import brewer\n",
    "from bokeh.plotting import figure\n",
    "\n",
    "# Input GeoJSON source that contains features for plotting\n",
    "geosource = GeoJSONDataSource(geojson = merged_df.to_json())\n",
    "geosource2 = GeoJSONDataSource(geojson = contiguous_usa.to_json())\n",
    "\n",
    "output_file('plot.html')\n",
    "p = figure(title = 'Urban Areas and Budgets 2017', y_range=(20, 50),x_range=(-126, -66),\n",
    "           plot_height = 600 ,\n",
    "           plot_width = 950, \n",
    "           toolbar_location = 'below',\n",
    "           tools = 'pan, wheel_zoom, box_zoom, reset')\n",
    "p.xgrid.grid_line_color = None\n",
    "p.ygrid.grid_line_color = None\n",
    "# Add patch renderer to figure.\n",
    "\n",
    "states = p.patches('xs','ys', source = geosource2,\n",
    "                   fill_color = None,\n",
    "                   line_color = 'gray', \n",
    "                   line_width = 0.15, \n",
    "                   fill_alpha = 1)\n",
    "\n",
    "areas = p.patches('xs','ys', source = geosource)\n",
    "#                   fill_color = None,\n",
    "#                   line_color = 'gray', \n",
    "#                   line_width = 0.25, \n",
    "#                   fill_alpha = 1)\n",
    "\n",
    "p.add_tools(HoverTool(renderers = [areas],\n",
    "                      tooltips = [('City','@city_name'),\n",
    "                                  ('Revenue','@rev_total'),\n",
    "                                  ('Education Services','@education_services'),\n",
    "                                  ('Education','@education'),\n",
    "                                  ('Police','@police'),\n",
    "                                  ('Social Services','@social_services'),\n",
    "                                  ('Public Safety','@public_safety')\n",
    "                                 ]))\n",
    "show(p)"
   ]
  },
  {
   "cell_type": "code",
   "execution_count": 101,
   "metadata": {},
   "outputs": [],
   "source": [
    "def clean_text(string,replace='-'):\n",
    "    regex = '[^A-Za-z0-9 ]+'\n",
    "    return re.sub(regex, replace, string)\n",
    "\n",
    "def clean_cities(city):\n",
    "    res = city.split(',')\n",
    "    if(len(res)>1):\n",
    "        ret = clean_text(res[0].strip()).split('-')[0].strip()+', '+res[1].strip().split('-')[0]\n",
    "    else:\n",
    "        ret = res[0]\n",
    "    return ret\n",
    "    "
   ]
  },
  {
   "cell_type": "code",
   "execution_count": 102,
   "metadata": {},
   "outputs": [],
   "source": [
    "fbi_data = pd.read_csv('data/crime_data/FBI_Data_Clean.csv')\n",
    "fbi_data['city']=fbi_data['city'].apply(clean_cities)"
   ]
  },
  {
   "cell_type": "code",
   "execution_count": null,
   "metadata": {},
   "outputs": [],
   "source": [
    "def border_states_redacted(name):\n",
    "    if ('--' in name):\n",
    "        entry_split= name.split(',')\n",
    "        city_name=entry_split[0]\n",
    "        states = entry_split[1].split('--')\n",
    "        for i in states:\n",
    "            print(city_name,i)\n",
    "            \n",
    "def border_states(name):\n",
    "    if ('--' in name):\n",
    "        entry_split= name.split(',')\n",
    "        city_name= entry_split[0].split('--')[0]\n",
    "        state = entry_split[1].split('--')[0]\n",
    "        return ','.join([city_name,state])\n",
    "    else: \n",
    "        return name"
   ]
  },
  {
   "cell_type": "code",
   "execution_count": 18,
   "metadata": {},
   "outputs": [
    {
     "data": {
      "text/plain": [
       "(120, 673)"
      ]
     },
     "execution_count": 18,
     "metadata": {},
     "output_type": "execute_result"
    }
   ],
   "source": [
    "merged_df.shape"
   ]
  },
  {
   "cell_type": "code",
   "execution_count": 31,
   "metadata": {},
   "outputs": [
    {
     "data": {
      "text/plain": [
       "Index(['UACE10', 'AFFGEOID10', 'GEOID10', 'city_name', 'LSAD10', 'UATYP10',\n",
       "       'ALAND10', 'AWATER10', 'geometry', 'year',\n",
       "       ...\n",
       "       'cash_other_other', 'county_name', 'id_county', 'county_population',\n",
       "       'relationship_city_school', 'enrollment', 'districts_in_city',\n",
       "       'consolidated_govt', 'city_merge_name', 'state'],\n",
       "      dtype='object', length=673)"
      ]
     },
     "execution_count": 31,
     "metadata": {},
     "output_type": "execute_result"
    }
   ],
   "source": [
    "merged_df.columns"
   ]
  },
  {
   "cell_type": "code",
   "execution_count": 112,
   "metadata": {},
   "outputs": [],
   "source": [
    "from matplotlib import pyplot as plt\n",
    "\n",
    "# increase the size and quality of any plots we produce\n",
    "import matplotlib as mpl\n",
    "\n",
    "mpl.rcParams[\"figure.dpi\"] = 300"
   ]
  },
  {
   "cell_type": "code",
   "execution_count": 117,
   "metadata": {},
   "outputs": [],
   "source": [
    "combined_df = merged_df.merge(fbi_data[fbi_data['year']==2017],left_on='city_name',right_on = 'city',how='inner')#.rename(columns={\"city_name_x\": \"city_name\"})"
   ]
  },
  {
   "cell_type": "code",
   "execution_count": 118,
   "metadata": {},
   "outputs": [
    {
     "data": {
      "text/plain": [
       "Text(0.5, 0, 'Police Budget Spending')"
      ]
     },
     "execution_count": 118,
     "metadata": {},
     "output_type": "execute_result"
    },
    {
     "data": {
      "text/plain": [
       "Text(0, 0.5, 'Rate per 100,000 Violent Crime Rate')"
      ]
     },
     "execution_count": 118,
     "metadata": {},
     "output_type": "execute_result"
    },
    {
     "data": {
      "image/png": "[encoded data removed]",
      "text/plain": [
       "<Figure size 1800x1200 with 1 Axes>"
      ]
     },
     "metadata": {
      "needs_background": "light"
     },
     "output_type": "display_data"
    }
   ],
   "source": [
    "ax = combined_df[['city_name','police','violent_crime']].dropna().plot.scatter(x=\"police\", y=\"violent_crime\")\n",
    "ax.set_xlabel(\"Police Budget Spending\")\n",
    "ax.set_ylabel(\"Rate per 100,000 Violent Crime Rate\")\n",
    "_ = ax.set_title(\"Spending vs Crime\")"
   ]
  }
 ],
 "metadata": {
  "kernelspec": {
   "display_name": "Python 3",
   "language": "python",
   "name": "python3"
  },
  "language_info": {
   "codemirror_mode": {
    "name": "ipython",
    "version": 3
   },
   "file_extension": ".py",
   "mimetype": "text/x-python",
   "name": "python",
   "nbconvert_exporter": "python",
   "pygments_lexer": "ipython3",
   "version": "3.6.7"
  }
 },
 "nbformat": 4,
 "nbformat_minor": 2
}
