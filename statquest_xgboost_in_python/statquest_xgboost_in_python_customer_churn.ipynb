{
 "cells": [
  {
   "cell_type": "markdown",
   "metadata": {},
   "source": [
    "## StatQuest!\n",
    "# XGBoost in Python, From Start to Finish (Customer Churn)\n",
    "Copyright 2020, Joshua Starmer\n",
    "\n",
    "----\n",
    "\n",
    "In this lesson we will use **XGBoost** to build a collection of boosted trees (one of which is illustrated below), and use continuous and categorical data from the **[IBM Base Samples](https://community.ibm.com/community/user/businessanalytics/blogs/steven-macko/2018/09/12/base-samples-for-ibm-cognos-analytics)** to predict whether or not a customer will **[stop using a company's service](https://community.ibm.com/community/user/businessanalytics/blogs/steven-macko/2019/07/11/telco-customer-churn-1113)**. In business lingo, this is called **Customer Churn**. You can download the **[Telco Churn dataset](https://community.ibm.com/community/user/businessanalytics/blogs/steven-macko/2017/06/19/guide-to-ibm-cognos-analytics-sample-data-sets)**, or use the file provided with the jupyter notebook.\n",
    "\n",
    "<!-- <img src=\"./xgboost_tree.png\" alt=\"An XGBoost Tree\" style=\"width: 600px;\"> -->\n",
    "<img src=\"./xgboost_tree_customer_churn.png\" alt=\"An XGBoost Tree\">\n",
    "\n",
    "**XGBoost** is an exceptionally useful machine learning method when you don't want to sacrifice the ability to correctly classify observations but you still want a model that is fairly easy to understand and interpret. \n",
    "\n",
    "In this lesson you will learn about...\n",
    "\n",
    "- **[Importing Data from a File](#download-the-data)**\n",
    "\n",
    "- **[Missing Data](#identify-and-deal-with-missing-data)**\n",
    "    - Identifying Missing Data\n",
    "    - Dealing with Missing Data\n",
    "\n",
    "\n",
    "- **[Formatting the Data for XGBoost](#format-the-data)**\n",
    "\n",
    "    - Splitting data into Dependent and Independent Variables\n",
    "    - One-Hot-Encoding\n",
    "    - Converting all columns to Int, Float or Bool\n",
    "    \n",
    "\n",
    "- **[Building a Preliminary XGBoost Model](#build-tree)**\n",
    "\n",
    "\n",
    "- **[Optimizing Parameters with Cross Validation and GridSearch()](#optimize-parameters)**\n",
    "    \n",
    "    - Optimizing the learning rate, tree depth, number of trees, gamma (for pruning) and lambda (for regularization).\n",
    "\n",
    "\n",
    "- **[Building, Drawing, Interpreting and Evaluating the Optimized XGBoost Model](#draw-tree)**\n",
    "\n",
    "#### NOTE:\n",
    "This tutorial assumes that you already know the basics of coding in **Python** and are familiar with the theory behind **[XGBoost](https://youtu.be/OtD8wVaFm6E)**, **[Cross Validation](https://youtu.be/fSytzGwwBVw)** and **[Confusion Matrices](https://youtu.be/Kdsp6soqA7o)**. If not, check out the **StatQuests** by clicking on the links for each topic.\n"
   ]
  },
  {
   "cell_type": "markdown",
   "metadata": {},
   "source": [
    "#### Also Note:\n",
    "I strongly encourage you to play around with the code. Playing with the code is the best way to learn from it."
   ]
  },
  {
   "cell_type": "markdown",
   "metadata": {},
   "source": [
    "-----"
   ]
  },
  {
   "cell_type": "markdown",
   "metadata": {},
   "source": [
    "# Import the modules that will do all the work\n",
    "The very first thing we do is load in a bunch of python modules. Python, itself, just gives us a basic programming language. These modules give us extra functionality to import the data, clean it up and format it, and then build, evaluate and draw the **XGBoost** model. \n",
    "\n",
    "**NOTE:** You will need **Python 3** and have at least these versions for each of the following modules: \n",
    "- pandas >= 1.2.3\n",
    "- numpy >= 1.19.2\n",
    "- sklearn >= 0.24.1\n",
    "- xgboost >= 1.3.3\n",
    " \n",
    "If you installed **Python 3** with [Anaconda](https://www.anaconda.com/), you can check which versions you have with the command: `conda list`. If, for example, your version of `scikit-learn` is older than 0.22.1, then the easiest thing to do is just update all of your **Anaconda** packages with the following command: `conda update --all`. However, if you only want to update `scikit-learn`, then you can run this command: `conda install scikit-learn=0.22.1`.\n",
    "\n",
    "If you need to install `xgboost`, then you can do so with the following command: `conda install -c conda-forge xgboost`.\n",
    "\n",
    "**NOTE:** To draw the tree, you will also need to install `graphviz`. You can do that with the command: `conda install graphviz python-graphviz`."
   ]
  },
  {
   "cell_type": "code",
   "execution_count": null,
   "metadata": {},
   "outputs": [],
   "source": [
    "import pandas as pd # load and manipulate data and for One-Hot Encoding\n",
    "import numpy as np # calculate the mean and standard deviation\n",
    "import xgboost as xgb # XGBoost stuff\n",
    "from sklearn.model_selection import train_test_split # split  data into training and testing sets\n",
    "from sklearn.metrics import balanced_accuracy_score, roc_auc_score, make_scorer # for scoring during cross validation\n",
    "from sklearn.model_selection import GridSearchCV # cross validation\n",
    "from sklearn.metrics import confusion_matrix # creates a confusion matrix\n",
    "from sklearn.metrics import plot_confusion_matrix # draws a confusion matrix"
   ]
  },
  {
   "cell_type": "markdown",
   "metadata": {},
   "source": [
    "----"
   ]
  },
  {
   "cell_type": "markdown",
   "metadata": {},
   "source": [
    "<a id=\"download-the-data\"></a>\n",
    "# Import the data\n",
    "Now we load in a dataset from the **[IBM Base Samples](https://community.ibm.com/community/user/businessanalytics/blogs/steven-macko/2018/09/12/base-samples-for-ibm-cognos-analytics)**. Specifically, we are going to use the **[Telco Churn Dataset](https://community.ibm.com/community/user/businessanalytics/blogs/steven-macko/2017/06/19/guide-to-ibm-cognos-analytics-sample-data-sets)**. This dataset will allow us to predict if someone will stop using Telco's services or not using a variety of continuous and categorical datatypes.\n",
    "\n",
    "\n",
    "**NOTE:** When **pandas** (**pd**) reads in data, it returns a **data frame**, which is a lot like a spreadsheet. The data are organized in rows and columns and each row can contain a mixture of text and numbers. The standard variable name for a **data frame** is the initials **df**, and that is what we will use here:"
   ]
  },
  {
   "cell_type": "code",
   "execution_count": null,
   "metadata": {},
   "outputs": [],
   "source": [
    "df = pd.read_csv('Telco_customer_churn.csv')"
   ]
  },
  {
   "cell_type": "markdown",
   "metadata": {},
   "source": [
    "Now that we have loaded the data into a **data frame** called **df**, let's look at the first five rows using the `head()` function:"
   ]
  },
  {
   "cell_type": "code",
   "execution_count": null,
   "metadata": {},
   "outputs": [],
   "source": [
    "df.head()"
   ]
  },
  {
   "cell_type": "markdown",
   "metadata": {},
   "source": [
    "The \"...\" between **Gender** and **Contract** tells us that this dataset has more columns, or variables, than will print to the screen. And the `5 rows x 33 columns` printed below the first 5 rows tells us that there are 33 variables. The last four variables contain exit interview information and should not be used for prediction, so we will remove them."
   ]
  },
  {
   "cell_type": "code",
   "execution_count": null,
   "metadata": {},
   "outputs": [],
   "source": [
    "df.drop(['Churn Label', 'Churn Score', 'CLTV', 'Churn Reason'],\n",
    "        axis=1, inplace=True) ## set axis=0 to remove rows, axis=1 to remove columns\n",
    "df.head()"
   ]
  },
  {
   "cell_type": "markdown",
   "metadata": {},
   "source": [
    "Some of the other columns only contain a single value, and will not be useful for classification. For example:"
   ]
  },
  {
   "cell_type": "code",
   "execution_count": null,
   "metadata": {},
   "outputs": [],
   "source": [
    "df['Count'].unique()"
   ]
  },
  {
   "cell_type": "code",
   "execution_count": null,
   "metadata": {},
   "outputs": [],
   "source": [
    "df['Country'].unique()"
   ]
  },
  {
   "cell_type": "code",
   "execution_count": null,
   "metadata": {},
   "outputs": [],
   "source": [
    "df['State'].unique()"
   ]
  },
  {
   "cell_type": "markdown",
   "metadata": {},
   "source": [
    "So we can omit those variables. In contrast, `City` contains a bunch of different city names, so we will leave it in. "
   ]
  },
  {
   "cell_type": "code",
   "execution_count": null,
   "metadata": {},
   "outputs": [],
   "source": [
    "df['City'].unique()"
   ]
  },
  {
   "cell_type": "markdown",
   "metadata": {},
   "source": [
    "We will also remove `Customer ID` because it is different for every customer and useless for classification. Lastly, we will drop `Lat Long` because there are separate columns for `Latitude` and `Longitude`."
   ]
  },
  {
   "cell_type": "code",
   "execution_count": null,
   "metadata": {},
   "outputs": [],
   "source": [
    "df.drop(['CustomerID', 'Count', 'Country', 'State', 'Lat Long'],\n",
    "        axis=1, inplace=True) ## set axis=0 to remove rows, axis=1 to remove columns\n",
    "df.head()"
   ]
  },
  {
   "cell_type": "markdown",
   "metadata": {},
   "source": [
    "**NOTE:** Although it is OK to have whitespace in the city names in **City** for **XGBoost** and classification, we can't have any whitespace if we want to draw a tree. So let's take care of that now by replacing the white space in the city names with an underscore character `_`.\n",
    "\n",
    "**ALSO NOTE** We can easily remove whitespaces from all values, not just city names, but we will wait to do that until after we have identified missing values."
   ]
  },
  {
   "cell_type": "code",
   "execution_count": null,
   "metadata": {},
   "outputs": [],
   "source": [
    "df['City'].replace(' ', '_', regex=True, inplace=True)\n",
    "df.head()"
   ]
  },
  {
   "cell_type": "code",
   "execution_count": null,
   "metadata": {},
   "outputs": [],
   "source": [
    "df['City'].unique()[0:10]"
   ]
  },
  {
   "cell_type": "markdown",
   "metadata": {},
   "source": [
    "We also need to eliminate the whitespace in the column names, so we'll replace it with underscores. "
   ]
  },
  {
   "cell_type": "code",
   "execution_count": null,
   "metadata": {},
   "outputs": [],
   "source": [
    "df.columns = df.columns.str.replace(' ', '_')\n",
    "df.head()"
   ]
  },
  {
   "cell_type": "markdown",
   "metadata": {},
   "source": [
    "Hooray! We have removed all of the data that will not help use create an effective **XGBoost** model and reformatted the column names and city names so that we can draw a tree. Now we are ready to identify and deal with **Missing Data**."
   ]
  },
  {
   "cell_type": "markdown",
   "metadata": {},
   "source": [
    "\n",
    "----"
   ]
  },
  {
   "cell_type": "markdown",
   "metadata": {},
   "source": [
    "<a id=\"identify-and-deal-with-missing-data\"></a>\n",
    "# Missing Data Part 1: Identifying Missing Data\n",
    "\n",
    "Unfortunately, the biggest part of any data analysis project is making sure that the data are correctly formatted and fixing it when it is not. The first part of this process is identifying **Missing Data**.\n",
    "\n",
    "**Missing Data** is simply a blank space, or a surrogate value like **NA**, that indicates that we failed to collect data for one of the features. For example, if we forgot to ask someone's age, or forgot to write it down, then we would have a blank space in the dataset for that person's **age**.\n",
    "\n",
    "One thing that is relatively unique about **XGBoost** is that it has default behavior for missing data. So all we have to do is identify missing values and make sure they are set to `0`.\n",
    "\n",
    "In this section, we'll focus on identifying missing values in the dataset. \n",
    "\n",
    "First, let's see what sort of data is in each column."
   ]
  },
  {
   "cell_type": "code",
   "execution_count": null,
   "metadata": {},
   "outputs": [],
   "source": [
    "df.dtypes"
   ]
  },
  {
   "cell_type": "markdown",
   "metadata": {},
   "source": [
    "A lot of the columns are `object`, and this is OK, because, as we saw above when we ran `head()` there were a lot of text responses, like `Yes` and `No`. However, let's verify that we are getting what we expect."
   ]
  },
  {
   "cell_type": "code",
   "execution_count": null,
   "metadata": {},
   "outputs": [],
   "source": [
    "df['Phone_Service'].unique()"
   ]
  },
  {
   "cell_type": "markdown",
   "metadata": {},
   "source": [
    "So, **Phone_Service** has type `object` because it contains text, and it only contains two values, `Yes` and `No`. So this is good. Now, in practice, we would check every other column, and I did this, but right now we will focus on one specific column that looks like it could be a problem: **Total_Charges**.\n",
    "\n",
    "If we look at the output from `head()`, **Total_Charges** looks like it contains numbers, not text, but the `object` datatype suggests that it contains more than just numbers. If we try the trick of printing out the unique values..."
   ]
  },
  {
   "cell_type": "code",
   "execution_count": null,
   "metadata": {},
   "outputs": [],
   "source": [
    "df['Total_Charges'].unique()"
   ]
  },
  {
   "cell_type": "markdown",
   "metadata": {},
   "source": [
    "...we see that there are too many values to print and what little we see looks like numbers. However, if we try to convert the column to numeric values..."
   ]
  },
  {
   "cell_type": "code",
   "execution_count": null,
   "metadata": {},
   "outputs": [],
   "source": [
    "## NOTE: The next line is commented out, but you should\n",
    "## uncomment it and run it so you can see the error that it\n",
    "## generates.\n",
    "##\n",
    "## The only reason it is commented out is that if you want\n",
    "## to just run all of the Python code at once, the next line\n",
    "## will cause Python to quit early because it creates an error\n",
    "## \n",
    "## However, the error is useful for learning how to spot missing\n",
    "## data, so that is why you should uncomment it and run it if you can.\n",
    "\n",
    "# df['Total Charges'] = pd.to_numeric(df['Total_Charges'])"
   ]
  },
  {
   "cell_type": "markdown",
   "metadata": {},
   "source": [
    "...we get an error. This error, however, tells us what the problem is. There are blank spaces, `\" \"`, in the data. So we need to deal with those."
   ]
  },
  {
   "cell_type": "markdown",
   "metadata": {},
   "source": [
    "\n",
    "----\n"
   ]
  },
  {
   "cell_type": "markdown",
   "metadata": {},
   "source": [
    "# Missing Data Part 2: Dealing With Missing Data, XGBoost Style\n",
    "\n",
    "One thing that is relatively unique about **XGBoost** is that it determines default behavior for missing data. So all we have to do is identify missing values and make sure they are set to `0`.\n",
    "\n",
    "However, before we do that, let's see how many rows are missing data. If it's a lot, then we might have a problem on our hands that is bigger than what **XGBoost** can deal with on its own. If it's not that many, we can just set them to `0`."
   ]
  },
  {
   "cell_type": "code",
   "execution_count": null,
   "metadata": {},
   "outputs": [],
   "source": [
    "len(df.loc[df['Total_Charges'] == ' '])"
   ]
  },
  {
   "cell_type": "markdown",
   "metadata": {},
   "source": [
    "Since only **11** rows have missing values, let's look at them."
   ]
  },
  {
   "cell_type": "code",
   "execution_count": null,
   "metadata": {},
   "outputs": [],
   "source": [
    "df.loc[df['Total_Charges'] == ' ']"
   ]
  },
  {
   "cell_type": "markdown",
   "metadata": {},
   "source": [
    "We see that all **11** people with `Total_Charges == ' '` have just signed up, because **Tenure_Months** is `0`. These people also all have **Churn_Value** set to `0` because they just signed up. So we have a few choices here, we can set **Total_Charges** to `0` for these **11** people or we can remove them. In this example, we'll try setting **Total_Charges** to `0`."
   ]
  },
  {
   "cell_type": "code",
   "execution_count": null,
   "metadata": {},
   "outputs": [],
   "source": [
    "df.loc[(df['Total_Charges'] == ' '), 'Total_Charges'] = 0"
   ]
  },
  {
   "cell_type": "markdown",
   "metadata": {},
   "source": [
    "Now let's verify that we modified **Total Charges** correctly by looking at everyone who had **Tenure Months** set to `0`."
   ]
  },
  {
   "cell_type": "code",
   "execution_count": null,
   "metadata": {},
   "outputs": [],
   "source": [
    "df.loc[df['Tenure_Months'] == 0]"
   ]
  },
  {
   "cell_type": "markdown",
   "metadata": {},
   "source": [
    "**BAM!** We have verified that `df` contains `0`s instead of `' '`s for missing values. **NOTE:** **Total_Charges** still has the `object` data type. That is no good because **XGBoost** only allows `int`, `float` or `boolean` data types. We can fix this by converting it with `to_numeric()`."
   ]
  },
  {
   "cell_type": "code",
   "execution_count": null,
   "metadata": {},
   "outputs": [],
   "source": [
    "df['Total_Charges'] = pd.to_numeric(df['Total_Charges'])\n",
    "df.dtypes"
   ]
  },
  {
   "cell_type": "markdown",
   "metadata": {},
   "source": [
    "Now that we have dealt with the missing data, we can replace all of the other whitespaces in all of the columns with underscores. \n",
    "**NOTE:** we are only doing this so we can draw a picture of the one of the **XGBoost** trees."
   ]
  },
  {
   "cell_type": "code",
   "execution_count": null,
   "metadata": {},
   "outputs": [],
   "source": [
    "df.replace(' ', '_', regex=True, inplace=True)\n",
    "df.head()"
   ]
  },
  {
   "cell_type": "code",
   "execution_count": null,
   "metadata": {},
   "outputs": [],
   "source": [
    "df.size"
   ]
  },
  {
   "cell_type": "markdown",
   "metadata": {},
   "source": [
    "----"
   ]
  },
  {
   "cell_type": "markdown",
   "metadata": {},
   "source": [
    "<a id=\"format-the-data\"></a>\n",
    "# Format Data Part 1: Split the Data into Dependent and Independent Variables\n",
    "\n",
    "Now that we have taken care of the missing data, we are ready to start formatting the data for making an **XGBoost** model.\n",
    "\n",
    "The first step is to split the data into two parts:\n",
    "1. The columns of data that we will use to make classifications\n",
    "2. The column of data that we want to predict.\n",
    "\n",
    "We will use the conventional notation of `X` (capital **X**) to represent the columns of data that we will use to make classifications and `y` (lower case **y**) to represent the thing we want to predict. In this case, we want to predict **Churn Value** (whether or not someone will leave the company).\n",
    "\n",
    "The reason we deal with missing data before splitting it into **X** and **y** is that if we remove rows, splitting after ensures that each row in **X** correctly corresponds with the appropriate value in **y**.\n",
    "\n",
    "**NOTE:** In the code below we are using `copy()` to copy the data *by value*. By default, pandas uses copy *by reference*. Using `copy()` ensures that the original data `df_no_missing` is not modified when we modify `X` or `y`. In other words, if we make a mistake when we are formatting the columns for classification trees, we can just re-copy `df_no_missing`, rather than have to reload the original data and  remove the missing values etc."
   ]
  },
  {
   "cell_type": "code",
   "execution_count": null,
   "metadata": {},
   "outputs": [],
   "source": [
    "X = df.drop('Churn_Value', axis=1).copy() # alternatively: X = df_no_missing.iloc[:,:-1]\n",
    "X.head()"
   ]
  },
  {
   "cell_type": "code",
   "execution_count": null,
   "metadata": {},
   "outputs": [],
   "source": [
    "y = df['Churn_Value'].copy()\n",
    "y.head()"
   ]
  },
  {
   "cell_type": "markdown",
   "metadata": {},
   "source": [
    "Now that we have created **X**, which has the data we want to use to make predictions, and **y**, which has the data we want to predict, we are ready to continue formatting **X** so that it is suitable for making a model with **XGBoost**."
   ]
  },
  {
   "cell_type": "markdown",
   "metadata": {},
   "source": [
    "----"
   ]
  },
  {
   "cell_type": "markdown",
   "metadata": {},
   "source": [
    "<a id=\"one-hot-encoding\"></a>\n",
    "# Format the Data Part 2: One-Hot Encoding\n",
    "\n",
    "Now that we have split the data frame into two pieces, `X`, which contains the data we will use to make, or predict, classifications, and `y`, which contains the known classifications in our training dataset, we need to take a closer look at the variables in `X`. The list below tells us what each variable represents and the type of data (**float** or **categorical**) it should contain:\n",
    "\n",
    "- **City** - **Category**\n",
    "  - Los Angeles, Beverly Hills, etc.\n",
    "- **Zip Code** - **Category**\n",
    "  - 90003, 90005, etc.\n",
    "- **Latitude** - **Float**\n",
    "- **Longitude** - **Float**\n",
    "- **Gender** - **Category**\n",
    "  - Female, Male\n",
    "- **Senior Citizen** - **Category**\n",
    "  - Yes, No\n",
    "- **Partner** - **Category**\n",
    "  - Yes, No\n",
    "- **Dependents** - **Category**\n",
    "  - Yes, No\n",
    "- **Tenure Months** - **Float**\n",
    "- **Phone Service** - **Category**\n",
    "  - Yes, No\n",
    "- **Multiple Lines** - **Category**\n",
    "  - Yes, No\n",
    "- **Internet Service** - **Category**\n",
    "  - No, DSL, Fiber optic\n",
    "- **Online Security** - **Category**\n",
    "  - Yes, No\n",
    "- **Online Backup** - **Category**\n",
    "  - Yes, No\n",
    "- **Device Protection** - **Category**\n",
    "  - Yes, No\n",
    "- **Tech Support** - **Category**\n",
    "  - Yes, No\n",
    "- **Streaming TV** - **Category**\n",
    "  - Yes, No\n",
    "- **Streaming Movies** - **Category**\n",
    "  - Yes, No\n",
    "- **Contract** - **Category**\n",
    "  - Month-to-month, One year, Two year\n",
    "- **Paperless Billing** - **Category**\n",
    "  - Yes, No\n",
    "- **Payment Method** - **Category**\n",
    "  - Mailed check, Electronic check, etc...\n",
    "- **Monthly Charges** - **Float**\n",
    "- **Total Charges** - **Float**\n",
    "\n",
    "\n",
    "Now, just to review, let's look at the data types in `X` to remember how python is seeing the data right now."
   ]
  },
  {
   "cell_type": "code",
   "execution_count": null,
   "metadata": {},
   "outputs": [],
   "source": [
    "X.dtypes"
   ]
  },
  {
   "cell_type": "markdown",
   "metadata": {},
   "source": [
    "So, we see that **Latitude**, **Longitude**, **Monthly_Charges** and **Total_Charges** are all `float64`, which is good, because we want them to be floating point numbers. All of the columns that are `object` type, however, need to be inspected to make sure they only contain reasonable values, and most, if not all of them, will need to change. This is because, while **XGBoost** natively supports continuous data, like **Monthly_Charges** and **Total_Charges**, it does not natively support categorical data, like **Phone_Service**, which contains 2 different categories. Thus, in order to use categorical data with **XGBoost**, we have to use a trick that converts a column of categorical data into multiple columns of binary values. This trick is called **One-Hot Encoding**.\n",
    "\n",
    "At this point you may be wondering, \"what's wrong with treating categorical data like continuous data?\" To answer that question, let's look at an example: For the **Payment_Method** column, we have a bunch of options:\n",
    "1. Mailed_Check\n",
    "2. Electronic_Check\n",
    "3. Bank_Transfer\n",
    "4. Credit_Card\n",
    "\n",
    "If we converted these categories to numbers, 1, 2, 3 and 4, treated them like continuous data, then we would assume that 4, which means **Credit_Card**, is more similar to 3, which means **Bank_Transfer**, than it is to 1 or 2, which are other forms of payment. That means the **XGBoost Tree** would be more likely to cluster the people with 4s and 3s together than the people with 4s and 1s together. In contrast, if we treat these **Payment_Methods** like categorical data, then we treat each one as a separate category that is no more or less similar to any of the other categories. Thus, the likelihood of clustering people who pay with a **Mailed_Check** with people who pay with **Electronic_Check** is the same as clustering **Mailed_Check** with **Credit_Card**, and that approach is more reasonable."
   ]
  },
  {
   "cell_type": "markdown",
   "metadata": {},
   "source": [
    "<!-- Now we need to deal with **cp** (chest pain), **restecg** (resting electrocardiographic results), **slope** (the slope of the peak exercise ST segment) and **thal** (thalium heart scan).\n",
    " -->\n",
    "**NOTE:** There are many different ways to do **One-Hot Encoding** in Python. Two of the more popular methods are `ColumnTransformer()` (from **scikit-learn**) and `get_dummies()` (from **pandas**), and both methods have pros and cons. `ColumnTransformer()` has a very cool feature where it creates a persistent function that can validate data that you get in the future. For example, if you build your **XGBoost** model using a categorical variable **favorite color** that has **red**, **blue** and **green** options, then `ColumnTransformer()` can remember those options and later on when your **XGBoost** model is being used in a production system, if someone says their favorite color is **orange**, then `ColumnTransformer()` can throw an error or handle the situation in some other nice way. The downside of `ColumnTransformer()` is that it turns your data into an array and loses all of the column names, making it harder to verify that your usage of `ColumnTransformer()` worked as you intended it to. In contrast, `get_dummies()` leaves your data in a dataframe and retains the column names, making it much easier to verify that it worked as intended. However, it does not have the persistent behavior that `ColumnTransformer()` has. So, for the sake of learning how **One-Hot Encoding** works, I prefer to use `get_dummies()`. However, once you are comfortable with **One-Hot Encoding**, I encourage you to investigate using `ColumnTransformer()`.\n",
    "\n",
    "First, before we commit to converting columns with **One-Hot Encoding**, let's just see what happens when we convert **Payment_Method** without saving the results. This will make it easy to see how `get_dummies()` works."
   ]
  },
  {
   "cell_type": "code",
   "execution_count": null,
   "metadata": {},
   "outputs": [],
   "source": [
    "pd.get_dummies(X, columns=['Payment_Method']).head()"
   ]
  },
  {
   "cell_type": "markdown",
   "metadata": {},
   "source": [
    "As we can see in the printout above, `get_dummies()` puts all of the columns it does not process in the front and it puts the values for **Payment_Method** at the end, split into **4** columns, just like we expected it. **Payment_Method_Bank_transfer** is `1` for any person that paid by **Bank_transfer** and `0` for everyone else. Likewise, **Payment_Method_Credit_card** is `1` for anyone that paid with **Credit_card** and `0` for everyone else. \n",
    "\n",
    "Now that we see how `get_dummies()` works, let's use it on all of the categorical columns and save the result.\n",
    "\n",
    "**NOTE:** In a real situation (not a tutorial like this), you should verify all of these columns to make sure they \n",
    "only contain the accepted categories. However, for this tutorial, I've already done that for us, so we can skip that step."
   ]
  },
  {
   "cell_type": "code",
   "execution_count": null,
   "metadata": {},
   "outputs": [],
   "source": [
    "X_encoded = pd.get_dummies(X, columns=['City', \n",
    "                                       'Gender', \n",
    "                                       'Senior_Citizen', \n",
    "                                       'Partner',\n",
    "                                       'Dependents',\n",
    "                                       'Phone_Service',\n",
    "                                       'Multiple_Lines',\n",
    "                                       'Internet_Service',\n",
    "                                       'Online_Security',\n",
    "                                       'Online_Backup',\n",
    "                                       'Device_Protection',\n",
    "                                       'Tech_Support',\n",
    "                                       'Streaming_TV',\n",
    "                                       'Streaming_Movies',\n",
    "                                       'Contract',\n",
    "                                       'Paperless_Billing',\n",
    "                                       'Payment_Method'])\n",
    "X_encoded.head()"
   ]
  },
  {
   "cell_type": "markdown",
   "metadata": {},
   "source": [
    "# BAM!!!"
   ]
  },
  {
   "cell_type": "markdown",
   "metadata": {},
   "source": [
    "Now, one last thing before we build an **XGBoost** model.  Let's verify that `y` only contains **1s** and **0s** with `unique()`:"
   ]
  },
  {
   "cell_type": "code",
   "execution_count": null,
   "metadata": {},
   "outputs": [],
   "source": [
    "y.unique()"
   ]
  },
  {
   "cell_type": "markdown",
   "metadata": {},
   "source": [
    "# Double BAM!!!\n",
    "\n",
    "We have finally finished formatting the data for making an **XGBoost** model, so let's do it!!!\n"
   ]
  },
  {
   "cell_type": "markdown",
   "metadata": {},
   "source": [
    "\n",
    "----"
   ]
  },
  {
   "cell_type": "markdown",
   "metadata": {},
   "source": [
    "<a id=\"build-tree\"></a>\n",
    "# Build A Preliminary XGBoost Model\n",
    "At long last, the data is correctly formatted for making an **XGBoost** model. Now we simply split the data into **training** and **testing** data sets and build the model. However, first, let's observe that this data is imbalanced by dividing the number of people who left the company, where `y = 1`, by the total number of people in the dataset. "
   ]
  },
  {
   "cell_type": "code",
   "execution_count": null,
   "metadata": {},
   "outputs": [],
   "source": [
    "sum(y)/len(y)"
   ]
  },
  {
   "cell_type": "markdown",
   "metadata": {},
   "source": [
    "So we see that only **27%** of the people in the dataset left the company. Because of this, when we split the data into training and testing, we will split using stratification in order to maintain the same percentage of people who left the company in both the **training** set and the **testing** set."
   ]
  },
  {
   "cell_type": "code",
   "execution_count": null,
   "metadata": {},
   "outputs": [],
   "source": [
    "X_train, X_test, y_train, y_test = train_test_split(X_encoded, y, random_state=42, stratify=y)"
   ]
  },
  {
   "cell_type": "markdown",
   "metadata": {},
   "source": [
    "Now let's verify that using `stratify` worked as expected..."
   ]
  },
  {
   "cell_type": "code",
   "execution_count": null,
   "metadata": {},
   "outputs": [],
   "source": [
    "sum(y_train)/len(y_train)"
   ]
  },
  {
   "cell_type": "code",
   "execution_count": null,
   "metadata": {},
   "outputs": [],
   "source": [
    "sum(y_test)/len(y_test)"
   ]
  },
  {
   "cell_type": "markdown",
   "metadata": {},
   "source": [
    "**BAM!!!** `stratify` worked as expected and both `y_train` and `y_test` have the same percentage of people that left the company. Now let's build the preliminary model.\n",
    "\n",
    "**NOTE:** Instead of determining the optimal number of trees with cross validation, we will use **early stopping** to stop building trees when they no longer improve the situation."
   ]
  },
  {
   "cell_type": "code",
   "execution_count": null,
   "metadata": {},
   "outputs": [],
   "source": [
    "clf_xgb = xgb.XGBClassifier(objective='binary:logistic', \n",
    "                            eval_metric=\"logloss\", ## this avoids a warning...\n",
    "                            missing=None, seed=42, \n",
    "                            use_label_encoder=False)\n",
    "## NOTE: newer versions of XGBoost will issue a warning if you don't explitly tell it that\n",
    "## you are not expecting it to do label encoding on its own (in other words, since we\n",
    "## have ensured that the categorical values are all numeric, we do not expect XGBoost to do label encoding), \n",
    "## so we set use_label_encoder=False\n",
    "clf_xgb.fit(X_train, \n",
    "            y_train,\n",
    "            verbose=True,\n",
    "            ## the next three arguments set up early stopping.\n",
    "            early_stopping_rounds=10,\n",
    "            eval_metric='aucpr',\n",
    "            eval_set=[(X_test, y_test)])\n",
    "## NOTE: In the video I got 50 or 60 lines of output. However, the newer version of XGBoost is faster and only prints out 20."
   ]
  },
  {
   "cell_type": "markdown",
   "metadata": {},
   "source": [
    "OK, we've built an **XGBoost** model for classification. Let's see how it performs on the **Testing Dataset** by running the **Testing Dataset** down the model and drawing a **Confusion Matrix**."
   ]
  },
  {
   "cell_type": "code",
   "execution_count": null,
   "metadata": {},
   "outputs": [],
   "source": [
    "plot_confusion_matrix(clf_xgb, \n",
    "                      X_test, \n",
    "                      y_test,\n",
    "                      values_format='d',\n",
    "                      display_labels=[\"Did not leave\", \"Left\"])"
   ]
  },
  {
   "cell_type": "markdown",
   "metadata": {},
   "source": [
    "<!-- NOTE: because we included the missing data, we get different training/testing dataset from SVM and classification trees, so we get different results etc.\n",
    " -->\n",
    "In the confusion matrix, we see that of the **1294** people that **did not leave**, **1166 (90%)** were correctly classified. And of the **467** people that **left the company**, **256 (54%)** were correctly classified. So the **XGBoost** model was not awesome. Part of the problem is that our data is imbalanced, which we saw earlier and we see this in the confusion matrix with the top row showing **1262** people that did not default and the bottom row showing **467** people who did. Because people leaving costs the company a lot of money, we would like to capture more of the people that left. The good news is that **XGBoost** has a parameter, `scale_pos_weight`, that helps with imbalanced data. So let's try to improve predictions using **Cross Validation** to optimize the parameters."
   ]
  },
  {
   "cell_type": "markdown",
   "metadata": {},
   "source": [
    "----"
   ]
  },
  {
   "cell_type": "markdown",
   "metadata": {},
   "source": [
    "<a id=\"optimize-parameters\"></a>\n",
    "# Optimize Parameters using Cross Validation and GridSearch()\n",
    "\n",
    "**XGBoost** has a lot of *hyperparameters*, parameters that we have to manually configure and are not determined by **XGBoost** itself, including `max_depth`, the maximum tree depth, `learning_rate`, the learning rate, or \"eta\", `gamma`, the parameter that encourages pruning, and `reg_lambda`, the regularization parameter lambda. So let's try to find the optimal values for these hyperparameters in hopes that we can improve the accuracy with the **Testing Dataset**.\n",
    "\n",
    "**NOTE:** Since we have many hyperparameters to optimize, we will use `GridSearchCV()`. We specify a bunch of potential values for the hyperparameters and `GridSearchCV()` tests all possible combinations of the parameters for us."
   ]
  },
  {
   "cell_type": "code",
   "execution_count": null,
   "metadata": {},
   "outputs": [],
   "source": [
    "# ## NOTE: When data are imbalanced, the XGBoost manual says...\n",
    "# ## If you care only about the overall performance metric (AUC) of your prediction\n",
    "# ##     * Balance the positive and negative weights via scale_pos_weight\n",
    "# ##     * Use AUC for evaluation\n",
    "# ## ALSO NOTE: I ran GridSearchCV sequentially on subsets of parameter options, rather than all at once\n",
    "# ## in order to optimize parameters in a short period of time.\n",
    "\n",
    "# # ROUND 1\n",
    "# param_grid = {\n",
    "#     'max_depth': [3, 4, 5],\n",
    "#     'learning_rate': [0.1, 0.01, 0.05],\n",
    "#     'gamma': [0, 0.25, 1.0],\n",
    "#     'reg_lambda': [0, 1.0, 10.0],\n",
    "#     'scale_pos_weight': [1, 3, 5] # NOTE: XGBoost recommends sum(negative instances) / sum(positive instances)\n",
    "# }\n",
    "# # Output: max_depth: 4, learning_rate: 0.1, gamma: 0.25, reg_lambda: 10, scale_pos_weight: 3\n",
    "# # Because learning_rate and reg_lambda were at the ends of their range, we will continue to explore those...\n",
    "\n",
    "# ## ROUND 2\n",
    "# param_grid = {\n",
    "#     'max_depth': [4],\n",
    "#     'learning_rate': [0.1, 0.5, 1],\n",
    "#     'gamma': [0.25],\n",
    "#     'reg_lambda': [10.0, 20, 100],\n",
    "#      'scale_pos_weight': [3]\n",
    "# }\n",
    "# ## Output: max_depth: 4, learning_rate: 0.1, reg_lambda: 10.\n",
    "\n",
    "# NOTE: To speed up cross validiation, and to further prevent overfitting.\n",
    "# We are only using a random subset of the data (90%) and are only\n",
    "# using a random subset of the features (columns) (50%) per tree.\n",
    "# optimal_params = GridSearchCV(\n",
    "#     estimator=xgb.XGBClassifier(objective='binary:logistic', \n",
    "#                                 eval_metric=\"logloss\", ## this avoids a warning...\n",
    "#                                 seed=42,\n",
    "#                                 subsample=0.9,\n",
    "#                                 colsample_bytree=0.5,\n",
    "#                                 use_label_encoder=False),\n",
    "#     param_grid=param_grid,\n",
    "#     scoring='roc_auc', ## see https://scikit-learn.org/stable/modules/model_evaluation.html#scoring-parameter\n",
    "#     verbose=0, # NOTE: If you want to see what Grid Search is doing, set verbose=2\n",
    "#     n_jobs = 10,\n",
    "#     cv = 3\n",
    "# )\n",
    "\n",
    "# optimal_params.fit(X_train, \n",
    "#                    y_train, \n",
    "#                    early_stopping_rounds=10,                \n",
    "#                    eval_metric='auc',\n",
    "#                    eval_set=[(X_test, y_test)],\n",
    "#                    verbose=False)\n",
    "# print(optimal_params.best_params_)"
   ]
  },
  {
   "cell_type": "markdown",
   "metadata": {},
   "source": [
    "So, after testing all possible combinations of the potential parameter values with **Cross Validation**, we see that we should set `gamma=0.25`, `learn_rate=0.1`, `max_depth=4`, and `reg_lambda=10`."
   ]
  },
  {
   "cell_type": "markdown",
   "metadata": {},
   "source": [
    "----"
   ]
  },
  {
   "cell_type": "markdown",
   "metadata": {},
   "source": [
    "<a id=\"draw-tree\"></a>\n",
    "# Building, Evaluating, Drawing, and Interpreting the Optimized XGBoost Model\n",
    "\n",
    "Now that we have the ideal parameter values, we can build the final **XGBoost** model:"
   ]
  },
  {
   "cell_type": "code",
   "execution_count": null,
   "metadata": {},
   "outputs": [],
   "source": [
    "clf_xgb = xgb.XGBClassifier(seed=42,\n",
    "                        objective='binary:logistic',\n",
    "                        eval_metric=\"logloss\", ## this avoids warning...\n",
    "                        gamma=0.25,\n",
    "                        learning_rate=0.1,\n",
    "                        max_depth=4,\n",
    "                        reg_lambda=10,\n",
    "                        scale_pos_weight=3,\n",
    "                        subsample=0.9,\n",
    "                        colsample_bytree=0.5,\n",
    "                        use_label_encoder=False)\n",
    "clf_xgb.fit(X_train, \n",
    "            y_train, \n",
    "            verbose=True, \n",
    "            early_stopping_rounds=10,\n",
    "            eval_metric='aucpr',\n",
    "            eval_set=[(X_test, y_test)])"
   ]
  },
  {
   "cell_type": "markdown",
   "metadata": {},
   "source": [
    "Now let's draw another confusion matrix to see if the optimized **XGBoost** model does better."
   ]
  },
  {
   "cell_type": "code",
   "execution_count": null,
   "metadata": {},
   "outputs": [],
   "source": [
    "plot_confusion_matrix(clf_xgb, \n",
    "                      X_test, \n",
    "                      y_test,\n",
    "                      values_format='d',\n",
    "                      display_labels=[\"Did not leave\", \"Left\"])"
   ]
  },
  {
   "cell_type": "markdown",
   "metadata": {},
   "source": [
    "We see that the optimized **XGBoost** model is a lot better at identifying people that left the company. Of the **467** people that left the company, **390 (84%)**, were correctly identified. Before optimization, we only correctly identified **256 (54%)**. However, this improvement was at the expense of not being able to correctly classify as many people that did not leave. Before optimization, we correctly identified **1,166 (90%)** people that did not leave. Now we only correctly classify **937 (72%)**. That said, this trade off may be better for the company because now it can focus resources on the people that leave if that will help them retain them."
   ]
  },
  {
   "cell_type": "markdown",
   "metadata": {},
   "source": [
    "The last thing we are going to do is draw the first **XGBoost Tree** and discuss how to interpret it."
   ]
  },
  {
   "cell_type": "code",
   "execution_count": null,
   "metadata": {},
   "outputs": [],
   "source": [
    "## If we want to get information, like gain and cover etc, at each node in the first tree, \n",
    "## we just build the first tree, otherwise we'll get the average over all of the trees.\n",
    "clf_xgb = xgb.XGBClassifier(seed=42,\n",
    "                        eval_metric=\"logloss\", ## this avoids another warning...\n",
    "                        objective='binary:logistic',\n",
    "                        gamma=0.25,\n",
    "                        learning_rate=0.1,\n",
    "                        max_depth=4,\n",
    "                        reg_lambda=10,\n",
    "                        scale_pos_weight=3,\n",
    "                        subsample=0.9,\n",
    "                        colsample_bytree=0.5,\n",
    "                        n_estimators=1, ## We set this to 1 so we can get gain, cover etc.)\n",
    "                        use_label_encoder=False) \n",
    "\n",
    "clf_xgb.fit(X_train, y_train)\n",
    "\n",
    "## now print out the weight, gain, cover etc. for the tree\n",
    "## weight = number of times a feature is used in a branch or root across all trees\n",
    "## gain = the average gain across all splits that the feature is used in\n",
    "## cover = the average coverage across all splits a feature is used in\n",
    "## total_gain = the total gain across all splits the feature is used in\n",
    "## total_cover = the total coverage across all splits the feature is used in\n",
    "## NOTE: Since we only built one tree, gain = total_gain and cover=total_cover\n",
    "bst = clf_xgb.get_booster()\n",
    "for importance_type in ('weight', 'gain', 'cover', 'total_gain', 'total_cover'):\n",
    "    print('%s: ' % importance_type, bst.get_score(importance_type=importance_type))\n",
    "\n",
    "node_params = {'shape': 'box', ## make the nodes fancy\n",
    "               'style': 'filled, rounded',\n",
    "               'fillcolor': '#78cbe'} \n",
    "leaf_params = {'shape': 'box',\n",
    "               'style': 'filled',\n",
    "               'fillcolor': '#e48038'}\n",
    "## NOTE: num_trees is NOT the number of trees to plot, but the specific tree you want to plot\n",
    "## The default value is 0, but I'm setting it just to show it in action since it is\n",
    "## counter-intuitive.\n",
    "# xgb.to_graphviz(clf_xgb, num_trees=0, size=\"10,10\") \n",
    "## NOTE: I have heard that on windos you may need to add the\n",
    "## the exectuables for graphviz to your path for this next code to work.\n",
    "## For example, if graphviz is here: C:/Users/User/anaconda3/Library/bin/graphviz\n",
    "## Then you may need to run the following line of code (adjusting the path as needed)\n",
    "# os.environ[\"PATH\"]+= os.pathsep + 'C:/Users/User/anaconda3/Library/bin/graphviz'\n",
    "xgb.to_graphviz(clf_xgb, num_trees=0, \n",
    "                condition_node_params=node_params,\n",
    "                leaf_node_params=leaf_params) \n",
    "## if you want to save the figure...\n",
    "# graph_data = xgb.to_graphviz(clf_xgb, num_trees=0, size=\"10,10\", \n",
    "#                 condition_node_params=node_params,\n",
    "#                 leaf_node_params=leaf_params) \n",
    "# graph_data.view(filename='xgboost_tree_customer_churn') ## save as PDF"
   ]
  },
  {
   "cell_type": "markdown",
   "metadata": {},
   "source": [
    "Now let's discuss how to interpret the **XGBoost Tree**.\n",
    "In each node, we have:\n",
    "- The variable (column name) and the threshold for splitting the observations. For example, in the tree's root, we use **Contract_Month-to-month** to split the observations. All observations with **Contract_Month-to-month < 1** go to the **left** and all observations with **Contract_Month-to-month =< 1** go to the **right**.\n",
    "- Each branch either says **yes** or **no** and some also say **missing**. \n",
    " - **yes** and **no** refer to whether the threshold in the node above it is true or not. If so, then **yes**, if not, then **no**. \n",
    " - **missing** is the default option if there is missing data.\n",
    "- **leaf** tells us the output value for each leaf."
   ]
  },
  {
   "cell_type": "markdown",
   "metadata": {},
   "source": [
    "-----"
   ]
  },
  {
   "cell_type": "markdown",
   "metadata": {},
   "source": [
    "# In conclusion we...\n",
    "\n",
    "- **[Loaded the Data From a File](#download-the-data)**\n",
    "\n",
    "- **[Identified and Dealt with Missing Data](#identify-and-deal-with-missing-data)**\n",
    "\n",
    "- **[Formatted the Data for XGBoost using One-Hot Encoding](#one-hot-encoding)**\n",
    "\n",
    "- **[Built an XGBoost Model for Classification](#build-tree)**\n",
    "\n",
    "- **[Optimize the XGBoost Parameters with Cross Validation and GridSearch()](#prune-tree)**\n",
    "\n",
    "- **[Built, Drew, Interpreted and Evaluated the Optimized XGBoost Model](#draw-tree)**"
   ]
  },
  {
   "cell_type": "markdown",
   "metadata": {},
   "source": [
    "# TRIPLE BAM!!!"
   ]
  },
  {
   "cell_type": "markdown",
   "metadata": {},
   "source": [
    "Now for a bonus!!! This is not covered in the video, but we will draw **[SHAP](https://shap.readthedocs.io/en/latest/example_notebooks/tabular_examples/tree_based_models/Census%20income%20classification%20with%20XGBoost.html)** plots that will show which features are most important for the model. To do this, you need to have the `shap` package installed. You can do this with `conda install -c conda-forge shap`. Now let's import `shap`..."
   ]
  },
  {
   "cell_type": "code",
   "execution_count": null,
   "metadata": {},
   "outputs": [],
   "source": [
    "import shap"
   ]
  },
  {
   "cell_type": "markdown",
   "metadata": {},
   "source": [
    "...and rebuild the optimal **xgboost** model..."
   ]
  },
  {
   "cell_type": "code",
   "execution_count": null,
   "metadata": {},
   "outputs": [],
   "source": [
    "clf_xgb = xgb.XGBClassifier(seed=42,\n",
    "                        objective='binary:logistic',\n",
    "                        eval_metric=\"logloss\", ## this avoids warning...\n",
    "                        gamma=0.25,\n",
    "                        learning_rate=0.1,\n",
    "                        max_depth=4,\n",
    "                        reg_lambda=10,\n",
    "                        scale_pos_weight=3,\n",
    "                        subsample=0.9,\n",
    "                        colsample_bytree=0.5,\n",
    "                        use_label_encoder=False)\n",
    "clf_xgb.fit(X_train, \n",
    "            y_train, \n",
    "            verbose=True, \n",
    "            early_stopping_rounds=10,\n",
    "            eval_metric='aucpr',\n",
    "            eval_set=[(X_test, y_test)])"
   ]
  },
  {
   "cell_type": "markdown",
   "metadata": {},
   "source": [
    "Now we get `shap` to create summaries of the data..."
   ]
  },
  {
   "cell_type": "code",
   "execution_count": null,
   "metadata": {},
   "outputs": [],
   "source": [
    "explainer = shap.Explainer(clf_xgb)\n",
    "shap_values = explainer(X_test)"
   ]
  },
  {
   "cell_type": "markdown",
   "metadata": {},
   "source": [
    "...and draw a **SHAP** graph that summarizes the features."
   ]
  },
  {
   "cell_type": "code",
   "execution_count": null,
   "metadata": {},
   "outputs": [],
   "source": [
    "shap.plots.beeswarm(shap_values)"
   ]
  },
  {
   "cell_type": "markdown",
   "metadata": {},
   "source": [
    "Bam."
   ]
  }
 ],
 "metadata": {
  "kernelspec": {
   "display_name": "Python 3",
   "language": "python",
   "name": "python3"
  },
  "language_info": {
   "codemirror_mode": {
    "name": "ipython",
    "version": 3
   },
   "file_extension": ".py",
   "mimetype": "text/x-python",
   "name": "python",
   "nbconvert_exporter": "python",
   "pygments_lexer": "ipython3",
   "version": "3.7.6"
  }
 },
 "nbformat": 4,
 "nbformat_minor": 4
}
