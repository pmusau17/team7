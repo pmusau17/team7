{
 "cells": [
  {
   "cell_type": "code",
   "execution_count": null,
   "metadata": {},
   "outputs": [],
   "source": [
    "!pip install pandas_profiling"
   ]
  },
  {
   "cell_type": "code",
   "execution_count": null,
   "metadata": {},
   "outputs": [],
   "source": [
    "import pandas as pd\n",
    "import numpy as np\n",
    "import re \n",
    "#import geopandas as gpd\n",
    "import pandas as pd\n",
    "import json\n",
    "import datetime\n",
    "import matplotlib.dates as mdates\n",
    "import matplotlib.pyplot as plt\n",
    "import seaborn as sns\n",
    "sns.set()\n",
    "sns.set_theme(style=\"white\")\n",
    "import warnings\n",
    "from sklearn.cluster import KMeans \n",
    "from sklearn.preprocessing import StandardScaler\n",
    "\n",
    "warnings.filterwarnings(\"ignore\")\n",
    "from pandas_profiling import ProfileReport\n",
    "import random\n",
    "from sklearn import metrics \n",
    "from scipy.spatial.distance import cdist"
   ]
  },
  {
   "cell_type": "code",
   "execution_count": null,
   "metadata": {},
   "outputs": [],
   "source": [
    "budgets_fbi = pd.read_csv('CleanData/Merged_FBI_Budgets_Normalized.csv')\n",
    "budgets_fbi.head()"
   ]
  },
  {
   "cell_type": "markdown",
   "metadata": {},
   "source": [
    "### Load the Income Data"
   ]
  },
  {
   "cell_type": "code",
   "execution_count": null,
   "metadata": {},
   "outputs": [],
   "source": [
    "income_data= pd.read_csv('CleanData/DPI_Clean.csv')\n",
    "povertydf = pd.read_csv('CleanData/Demographics.csv')\n",
    "racedf = pd.read_csv('CleanData/Race.csv')\n",
    "racedf = racedf[racedf['geographic_area_name'].notnull()]\n",
    "\n",
    "\n",
    "income_data.loc[income_data.loc[income_data['city'].str.contains('Fort Smith, AR')].index.values,'city'] = 'Ft. Smith, AR'\n",
    "income_data.loc[income_data.loc[income_data['city'].str.contains('Boise City, ID')].index.values,'city'] = 'Boise, ID'\n",
    "income_data.loc[income_data.loc[income_data['city'].str.contains('Louisville/Jefferson County, KY')].index.values,'city'] = 'Louisville, KY'\n",
    "\n",
    "povertydf.loc[povertydf.loc[povertydf['city_name'].str.contains('Fort Smith, AR')].index.values,'city_name'] = 'Ft. Smith, AR'\n",
    "povertydf.loc[povertydf.loc[povertydf['city_name'].str.contains('Boise City, ID')].index.values,'city_name'] = 'Boise, ID'\n",
    "povertydf.loc[povertydf.loc[povertydf['city_name'].str.contains('Louisville/Jefferson County, KY')].index.values,'city_name'] = 'Louisville, KY'\n",
    "\n",
    "racedf.loc[racedf.loc[racedf['geographic_area_name'].str.contains('Fort Smith, AR')].index.values,'geographic_area_name'] = 'Ft. Smith, AR'\n",
    "racedf.loc[racedf.loc[racedf['geographic_area_name'].str.contains('Boise City, ID')].index.values,'geographic_area_name'] = 'Boise, ID'\n",
    "racedf.loc[racedf.loc[racedf['geographic_area_name'].str.contains('Louisville/Jefferson County, KY')].index.values,'geographic_area_name'] = 'Louisville, KY'"
   ]
  },
  {
   "cell_type": "code",
   "execution_count": null,
   "metadata": {},
   "outputs": [],
   "source": [
    "merged_df = budgets_fbi.merge(income_data,left_on=['city_merge_name','year'],right_on = ['city','Year'],how='inner')\n",
    "merged_df.city.unique().shape"
   ]
  },
  {
   "cell_type": "markdown",
   "metadata": {},
   "source": [
    "### Lost Cities"
   ]
  },
  {
   "cell_type": "code",
   "execution_count": null,
   "metadata": {},
   "outputs": [],
   "source": [
    "for i in budgets_fbi.city_merge_name.unique():\n",
    "    if i not in merged_df.city.unique():\n",
    "        print(i)"
   ]
  },
  {
   "cell_type": "code",
   "execution_count": null,
   "metadata": {},
   "outputs": [],
   "source": [
    "merged_df2 = merged_df.merge(povertydf,left_on=['city_merge_name','year'],right_on = ['city_name','Year'],how='inner')\n",
    "merged_df2.city.unique().shape"
   ]
  },
  {
   "cell_type": "code",
   "execution_count": null,
   "metadata": {},
   "outputs": [],
   "source": [
    "for i in merged_df.city_merge_name.unique():\n",
    "    if i not in merged_df2.city.unique():\n",
    "        print(i)"
   ]
  },
  {
   "cell_type": "code",
   "execution_count": null,
   "metadata": {},
   "outputs": [],
   "source": [
    "merged_df3 = merged_df2.merge(racedf,left_on=['city_merge_name','year'],right_on = ['geographic_area_name','Year'],how='inner')\n",
    "merged_df3 = merged_df3.T.drop_duplicates().T\n",
    "\n",
    "\n",
    "merged_df3['percent_race_one_race_asian'] =merged_df3['percent_race_one_race_asian'].str.replace('N','0.0')\n",
    "merged_df3['percent_race_one_race_black_or_african_american'] = merged_df3['percent_race_one_race_black_or_african_american'].str.replace('N','0.0')\n",
    "merged_df3['percent_race_one_race_native_hawaiian_and_other_pacific_islander'] = merged_df3['percent_race_one_race_native_hawaiian_and_other_pacific_islander'].str.replace('N','0.0')\n",
    "merged_df3['percent_race_one_race_white'] = merged_df3['percent_race_one_race_white'].str.replace('N','0.0')\n",
    "merged_df3= merged_df3.drop(columns=['city_population'])\n",
    "merged_df3.head()"
   ]
  },
  {
   "cell_type": "code",
   "execution_count": null,
   "metadata": {},
   "outputs": [],
   "source": [
    "norm_column = \"population_persons\"\n",
    "\n",
    "\n",
    "cols_to_normalize = [\"personal_income_thousands_of_dollars\",\n",
    "\"total_estimate_educational_attainment_population_25_years_and_over\",\n",
    "\"total_estimate_age_18_to_64_years\",\n",
    "\"total_estimate_employment_status_civilian_labor_force_16_years_and_over\",\n",
    "\"total_estimate_population_for_whom_poverty_status_is_determined\",\n",
    "\"total_estimate_age_65_years_and_over\",\n",
    "\"total_estimate_sex_female\",\n",
    "\"total_estimate_work_experience_population_16_years_and_over\",\n",
    "\"total_estimate_age_under_18_years\",\n",
    "\"total_estimate_sex_male\",\n",
    "\"total_estimate_age_65_years_and_over\"]\n",
    "\n",
    "\n",
    "for i in cols_to_normalize:\n",
    "    merged_df3[i] = merged_df3[i]/merged_df3[\"population_persons\"]"
   ]
  },
  {
   "cell_type": "code",
   "execution_count": null,
   "metadata": {},
   "outputs": [],
   "source": [
    "merged_df3"
   ]
  },
  {
   "cell_type": "code",
   "execution_count": null,
   "metadata": {},
   "outputs": [],
   "source": [
    "dfoi = merged_df3[merged_df3.year==2017][merged_df3.columns[:9]].head(10)\n",
    "dfoi \n",
    "profile = ProfileReport(dfoi)"
   ]
  },
  {
   "cell_type": "code",
   "execution_count": null,
   "metadata": {},
   "outputs": [],
   "source": [
    "def convert_to_numeric(df,col):\n",
    "    try:\n",
    "        df[col] = df[col].apply(float)\n",
    "    except:\n",
    "        print(col)\n",
    "    \n",
    "def convert_name_to_numeric(row):\n",
    "    return name_dict[row]\n",
    "\n",
    "def numeric_to_name(row):\n",
    "    return label_dict[row]\n",
    "    \n",
    "    "
   ]
  },
  {
   "cell_type": "markdown",
   "metadata": {},
   "source": [
    "### Create The Df for clustering"
   ]
  },
  {
   "cell_type": "code",
   "execution_count": null,
   "metadata": {},
   "outputs": [],
   "source": [
    "test= merged_df3.copy().dropna()\n",
    "years= test.year\n",
    "test = test.drop(columns='population')\n",
    "test = test.drop(columns=\"population_persons\")\n",
    "\n",
    "for i in test.columns:\n",
    "    convert_to_numeric(test,i)\n",
    "test = test.drop(columns='year')\n",
    "test"
   ]
  },
  {
   "cell_type": "markdown",
   "metadata": {},
   "source": [
    "## Create mappings between names and numerics so we can do clustering"
   ]
  },
  {
   "cell_type": "code",
   "execution_count": null,
   "metadata": {},
   "outputs": [],
   "source": [
    "name_dict = {}\n",
    "label_dict = {}\n",
    "for i,item in enumerate(merged_df3['city_merge_name'].unique()):\n",
    "    name_dict[item] = i\n",
    "    label_dict[i]=item\n",
    "name_dict"
   ]
  },
  {
   "cell_type": "code",
   "execution_count": null,
   "metadata": {},
   "outputs": [],
   "source": [
    "test['city_merge_name'] = test['city_merge_name'].apply(convert_name_to_numeric)\n",
    "\n",
    "distortions = [] \n",
    "inertias = []\n",
    "mapping1 = {}\n",
    "mapping2 = {} \n",
    "K = range(1,15) \n",
    "\n",
    "X = test.values[:,:]\n",
    "X = np.nan_to_num(X)\n",
    "#Normalize data\n",
    "cluster_dataset = StandardScaler().fit_transform(X)\n",
    "cluster_dataset\n",
    "    \n",
    "for k in K: \n",
    "    #Building and fitting the model \n",
    "    kmeanModel = KMeans(init=\"k-means++\", n_clusters=k, n_init=50)\n",
    "    kmeanModel.fit(cluster_dataset)     \n",
    "      \n",
    "    distortions.append(sum(np.min(cdist(cluster_dataset, kmeanModel.cluster_centers_, \n",
    "                      'euclidean'),axis=1)) / cluster_dataset.shape[0]) \n",
    "    inertias.append(kmeanModel.inertia_) \n",
    "  \n",
    "    mapping1[k] = sum(np.min(cdist(cluster_dataset, kmeanModel.cluster_centers_, \n",
    "                 'euclidean'),axis=1)) / cluster_dataset.shape[0] \n",
    "    mapping2[k] = kmeanModel.inertia_ \n",
    "    \n",
    "test['city_merge_name'] = test['city_merge_name'].apply(numeric_to_name)   \n",
    "for key,val in mapping1.items(): \n",
    "    print(str(key)+' : '+str(val)) \n",
    "        \n",
    "# Make Plot 1\n",
    "\n",
    "plt.figure(figsize=(15,8))\n",
    "plt.plot(K, distortions, 'bx-') \n",
    "plt.xlabel('Values of K') \n",
    "plt.ylabel('Distortion') \n",
    "plt.title('The Elbow Method using Distortion') \n",
    "plt.show() \n",
    "    \n",
    "for key,val in mapping2.items(): \n",
    "    print(str(key)+' : '+str(val)) \n",
    "    \n",
    "# Make Plot 2\n",
    "\n",
    "plt.figure(figsize=(15,8))\n",
    "plt.plot(K, inertias, 'bx-') \n",
    "plt.xlabel('Values of K') \n",
    "plt.ylabel('Inertia') \n",
    "plt.title('The Elbow Method using Inertia') \n",
    "plt.show()"
   ]
  },
  {
   "cell_type": "code",
   "execution_count": null,
   "metadata": {},
   "outputs": [],
   "source": [
    "num_clusters = 6\n",
    "test['city_merge_name'] = test['city_merge_name'].apply(convert_name_to_numeric)\n",
    "\n",
    "k_means = KMeans(init=\"k-means++\", n_clusters=num_clusters, n_init=50,algorithm = \"elkan\")\n",
    "k_means.fit(cluster_dataset)\n",
    "labels = k_means.labels_\n",
    "\n",
    "test['city_merge_name'] = test['city_merge_name'].apply(numeric_to_name)\n",
    "test[\"Labels\"] = labels\n",
    "test['Year'] = years"
   ]
  },
  {
   "cell_type": "code",
   "execution_count": null,
   "metadata": {},
   "outputs": [],
   "source": [
    "modes = test.groupby(['city_merge_name','Labels']).count().reset_index().sort_values(by='violent_crime')\n",
    "top_labels = modes[['city_merge_name','Labels','violent_crime']].groupby('city_merge_name').head(1)[['city_merge_name','Labels']]\n",
    "labels = top_labels.sort_values('Labels')\n",
    "summary = labels.groupby('Labels').head(10).rename(columns={\"city_merge_name\":\"City\",\"Labels\":\"Group\"}).reset_index().drop(columns=\"index\")\n",
    "summary"
   ]
  },
  {
   "cell_type": "code",
   "execution_count": null,
   "metadata": {},
   "outputs": [],
   "source": [
    "test[test.Year==2017].groupby(\"Labels\").count()"
   ]
  },
  {
   "cell_type": "code",
   "execution_count": null,
   "metadata": {},
   "outputs": [],
   "source": [
    "def apply_labels(row):\n",
    "    item = labels['Labels'][labels.city_merge_name==row].values[0]\n",
    "    return item"
   ]
  },
  {
   "cell_type": "code",
   "execution_count": null,
   "metadata": {},
   "outputs": [],
   "source": [
    "test['Group']=test['city_merge_name'].apply(apply_labels)"
   ]
  },
  {
   "cell_type": "code",
   "execution_count": null,
   "metadata": {},
   "outputs": [],
   "source": [
    "res= test.groupby('Group').median().reset_index()\n",
    "res.sort_values(by='violent_crime',ascending=False)"
   ]
  },
  {
   "cell_type": "code",
   "execution_count": null,
   "metadata": {},
   "outputs": [],
   "source": [
    "crime = res.copy()\n",
    "crime[[\"violent_crime\",\"property_crime\"]] = crime[[\"violent_crime\",\"property_crime\"]]*(10**5)\n",
    "plt.figure(figsize=(15,8))\n",
    "ax = sns.barplot(data=crime,x='Group',y='violent_crime',palette=\"crest\")\n",
    "ax.spines['bottom'].set_color('#dddddd')\n",
    "ax.spines['left'].set_color('#dddddd')\n",
    "sns.despine(left=False, bottom=False, right=True)\n",
    "ax.tick_params(direction='out', length=6, width=2, colors=\"#5B5B5B\",\n",
    "               grid_color='r', grid_alpha=0.5)\n",
    "_ = ax.set_title('Rates of Violent Crime', color='#5B5B5B',loc='left',pad=25.0,fontweight=\"bold\")\n",
    "_ = ax.set_ylabel('Rate of Violent Crime (per 100,000)',color='#5B5B5B')"
   ]
  },
  {
   "cell_type": "code",
   "execution_count": null,
   "metadata": {},
   "outputs": [],
   "source": [
    "crime = res.copy()\n",
    "crime[[\"violent_crime\",\"property_crime\"]] = crime[[\"violent_crime\",\"property_crime\"]]*(10**5)\n",
    "plt.figure(figsize=(15,8))\n",
    "ax = sns.barplot(data=crime,x='Group',y='property_crime',palette=\"crest\")\n",
    "ax.spines['bottom'].set_color('#dddddd')\n",
    "ax.spines['left'].set_color('#dddddd')\n",
    "sns.despine(left=False, bottom=False, right=True)\n",
    "ax.tick_params(direction='out', length=6, width=2, colors=\"#5B5B5B\",\n",
    "               grid_color='r', grid_alpha=0.5)\n",
    "_ = ax.set_title('Rates of Violent Crime', color='#5B5B5B',loc='left',pad=25.0,fontweight=\"bold\")\n",
    "_ = ax.set_ylabel('Rate of Violent Crime (per 100,000)',color='#5B5B5B')"
   ]
  },
  {
   "cell_type": "code",
   "execution_count": null,
   "metadata": {},
   "outputs": [],
   "source": [
    "plt.figure(figsize=(15,8))\n",
    "ax = sns.barplot(data=res,x='Group',y='police',palette=\"crest\")\n",
    "ax.spines['bottom'].set_color('#dddddd')\n",
    "ax.spines['left'].set_color('#dddddd')\n",
    "sns.despine(left=False, bottom=False, right=True)\n",
    "ax.tick_params(direction='out', length=6, width=2, colors=\"#5B5B5B\",\n",
    "               grid_color='r', grid_alpha=0.5)\n",
    "_ = ax.set_title('Police Spending per Capita', color='#5B5B5B',loc='left',pad=25.0,fontweight=\"bold\")\n",
    "_ = ax.set_ylabel('Police Spending (per capita $)',color='#5B5B5B')"
   ]
  },
  {
   "cell_type": "code",
   "execution_count": null,
   "metadata": {},
   "outputs": [],
   "source": [
    "plt.figure(figsize=(15,8))\n",
    "ax = sns.barplot(data=res,x='Group',y='education_services',palette=\"crest\")\n",
    "ax.spines['bottom'].set_color('#dddddd')\n",
    "ax.spines['left'].set_color('#dddddd')\n",
    "sns.despine(left=False, bottom=False, right=True)\n",
    "ax.tick_params(direction='out', length=6, width=2, colors=\"#5B5B5B\",\n",
    "               grid_color='r', grid_alpha=0.5)\n",
    "_ = ax.set_title('Education Services Spending per Capita', color='#5B5B5B',loc='left',pad=25.0,fontweight=\"bold\")\n",
    "_ = ax.set_ylabel('Education Services Spending (per capita $)',color='#5B5B5B')"
   ]
  },
  {
   "cell_type": "code",
   "execution_count": null,
   "metadata": {},
   "outputs": [],
   "source": [
    "plt.figure(figsize=(15,8))\n",
    "ax = sns.barplot(data=res,x='Group',y='social_services',palette=\"crest\")\n",
    "ax.spines['bottom'].set_color('#dddddd')\n",
    "ax.spines['left'].set_color('#dddddd')\n",
    "sns.despine(left=False, bottom=False, right=True)\n",
    "ax.tick_params(direction='out', length=6, width=2, colors=\"#5B5B5B\",\n",
    "               grid_color='r', grid_alpha=0.5)\n",
    "_ = ax.set_title('Social Services Spending per Capita', color='#5B5B5B',loc='left',pad=25.0,fontweight=\"bold\")\n",
    "_ = ax.set_ylabel('Social Services Spending (per capita $)',color='#5B5B5B')"
   ]
  },
  {
   "cell_type": "markdown",
   "metadata": {},
   "source": [
    "### Let's Look at Trends"
   ]
  },
  {
   "cell_type": "code",
   "execution_count": null,
   "metadata": {},
   "outputs": [],
   "source": [
    "res= test.groupby(['Year','Group']).median().reset_index().sort_values(by=['Year','violent_crime'],ascending=[True,False])\n",
    "res['Year'] = pd.to_datetime(res['Year'],format=\"%Y\")"
   ]
  },
  {
   "cell_type": "code",
   "execution_count": null,
   "metadata": {},
   "outputs": [],
   "source": [
    "plt.figure(figsize=(15,8))\n",
    "ax = sns.lineplot(data=res[res.Group==4],x='Year',y='police',palette=\"Spectral\",hue=\"Group\")\n",
    "ax.spines['bottom'].set_color('#dddddd')\n",
    "ax.spines['left'].set_color('#dddddd')\n",
    "sns.despine(left=False, bottom=False, right=True)\n",
    "sns.despine(left=False, bottom=False, right=True)\n",
    "ax.tick_params(direction='out', length=6, width=2, colors=\"#5B5B5B\",\n",
    "               grid_color='r', grid_alpha=0.5)\n",
    "_ = ax.set_title('Police Spending per Capita', color='#5B5B5B',loc='left',pad=25.0,fontweight=\"bold\")\n",
    "_ = ax.set_ylabel('Police Spending (per capita $)',color='#5B5B5B')"
   ]
  },
  {
   "cell_type": "code",
   "execution_count": null,
   "metadata": {},
   "outputs": [],
   "source": [
    "plt.figure(figsize=(25,10))\n",
    "ax = sns.lineplot(data=res[res.Group.isin([1,2,3,5])],x='Year',y='police',palette=\"deep\",hue=\"Group\")\n",
    "ax.spines['bottom'].set_color('#dddddd')\n",
    "ax.spines['left'].set_color('#dddddd')\n",
    "sns.despine(left=False, bottom=False, right=True)\n",
    "sns.despine(left=False, bottom=False, right=True)\n",
    "ax.tick_params(direction='out', length=6, width=2, colors=\"#5B5B5B\",\n",
    "               grid_color='r', grid_alpha=0.5)\n",
    "_ = ax.set_title('Police Spending per Capita', color='#5B5B5B',loc='left',pad=25.0,fontweight=\"bold\")\n",
    "_ = ax.set_ylabel('Police Spending (per capita $)',color='#5B5B5B')\n",
    "_= plt.legend(loc = 'upper left',frameon=False)"
   ]
  },
  {
   "cell_type": "code",
   "execution_count": null,
   "metadata": {},
   "outputs": [],
   "source": [
    "plt.figure(figsize=(25,10))\n",
    "ax = sns.lineplot(data=res[res.Group.isin([1,2,3,5])],x='Year',y='education_services',palette=\"deep\",hue=\"Group\")\n",
    "ax.spines['bottom'].set_color('#dddddd')\n",
    "ax.spines['left'].set_color('#dddddd')\n",
    "sns.despine(left=False, bottom=False, right=True)\n",
    "sns.despine(left=False, bottom=False, right=True)\n",
    "ax.tick_params(direction='out', length=6, width=2, colors=\"#5B5B5B\",\n",
    "               grid_color='r', grid_alpha=0.5)\n",
    "_ = ax.set_title('Education Services per Capita', color='#5B5B5B',loc='left',pad=25.0,fontweight=\"bold\")\n",
    "_ = ax.set_ylabel('Education Services (per capita $)',color='#5B5B5B')\n",
    "_= plt.legend(loc = 'upper left',frameon=False)"
   ]
  },
  {
   "cell_type": "code",
   "execution_count": null,
   "metadata": {},
   "outputs": [],
   "source": [
    "plt.figure(figsize=(25,10))\n",
    "ax = sns.lineplot(data=res[res.Group.isin([1,2,3,5])],x='Year',y='social_services',palette=\"deep\",hue=\"Group\")\n",
    "ax.spines['bottom'].set_color('#dddddd')\n",
    "ax.spines['left'].set_color('#dddddd')\n",
    "sns.despine(left=False, bottom=False, right=True)\n",
    "sns.despine(left=False, bottom=False, right=True)\n",
    "ax.tick_params(direction='out', length=6, width=2, colors=\"#5B5B5B\",\n",
    "               grid_color='r', grid_alpha=0.5)\n",
    "_ = ax.set_title('Social Services per Capita', color='#5B5B5B',loc='left',pad=25.0,fontweight=\"bold\")\n",
    "_ = ax.set_ylabel('Social Services (per capita $)',color='#5B5B5B')\n",
    "_= plt.legend(loc = 'upper left',frameon=False)"
   ]
  },
  {
   "cell_type": "code",
   "execution_count": null,
   "metadata": {},
   "outputs": [],
   "source": [
    "pct_changes = res[res.Group==2].copy()\n",
    "pct_changes['police'] = pct_changes['police'].pct_change().fillna(0.0)\n",
    "pct_changes['social_services'] = pct_changes['social_services'].pct_change().fillna(0.0)\n",
    "pct_changes['education_services'] = pct_changes['education_services'].pct_change().fillna(0.0)\n",
    "pct_changes['violent_crime'] = pct_changes['violent_crime'].pct_change().fillna(0.0)\n",
    "pct_changes\n",
    "\n",
    "plt.figure(figsize=(15,10))\n",
    "ax = sns.lineplot(data=pct_changes,x='Year',y='social_services',palette=\"deep\")\n",
    "sns.lineplot(data=pct_changes,ax=ax,x='Year',y='police',color='r',palette=\"deep\")\n",
    "sns.lineplot(data=pct_changes,ax=ax,x='Year',y='education_services',color='g',palette=\"deep\")\n",
    "sns.lineplot(data=pct_changes,ax=ax,x='Year',y='violent_crime',color='orange',palette=\"deep\")\n",
    "ax.spines['bottom'].set_color('#dddddd')\n",
    "ax.spines['left'].set_color('#dddddd')\n",
    "sns.despine(left=False, bottom=False, right=True)\n",
    "sns.despine(left=False, bottom=False, right=True)\n",
    "ax.tick_params(direction='out', length=6, width=2, colors=\"#5B5B5B\",\n",
    "               grid_color='r', grid_alpha=0.5)\n",
    "_ = ax.set_title('Social Services per Capita', color='#5B5B5B',loc='left',pad=25.0,fontweight=\"bold\")\n",
    "_ = ax.set_ylabel('Social Services (per capita $)',color='#5B5B5B')\n",
    "_= plt.legend(labels = ['social services','police','education_services','violent_crime'],loc = 'upper left',frameon=False)"
   ]
  },
  {
   "cell_type": "markdown",
   "metadata": {},
   "source": [
    "### Highest Crime Cities"
   ]
  },
  {
   "cell_type": "code",
   "execution_count": null,
   "metadata": {},
   "outputs": [],
   "source": [
    "bygroup = res.sort_values(by='violent_crime',ascending=False)\n",
    "highest_crime = int(bygroup.reset_index().loc[0]['Group'])\n",
    "print(\"Highest Crime Group:\",highest_crime)\n",
    "corrs = test[test.Labels==highest_crime].corr()\n",
    "sns.heatmap(corrs[abs(corrs)>0.2])"
   ]
  },
  {
   "cell_type": "code",
   "execution_count": null,
   "metadata": {},
   "outputs": [],
   "source": [
    "ProfileReport(test[test.Group==highest_crime][list(test.columns[:5])+list(test.columns[17:18])+list(test.columns[23:34])])"
   ]
  },
  {
   "cell_type": "markdown",
   "metadata": {},
   "source": [
    "### Lowest Crime Cities"
   ]
  },
  {
   "cell_type": "code",
   "execution_count": null,
   "metadata": {},
   "outputs": [],
   "source": [
    "lowest_crime = int(bygroup.reset_index().loc[bygroup.shape[0]-2]['Group'])\n",
    "lowest_crime"
   ]
  },
  {
   "cell_type": "code",
   "execution_count": null,
   "metadata": {},
   "outputs": [],
   "source": [
    "test[test.Group==lowest_crime][list(test.columns[:5])+list(test.columns[17:18])+list(test.columns[23:34])+['total_estimate_mean_income_deficit_for_unrelated_individuals_(dollars)']].corr()"
   ]
  },
  {
   "cell_type": "markdown",
   "metadata": {},
   "source": [
    "### Strongest Positive Correlations"
   ]
  },
  {
   "cell_type": "code",
   "execution_count": null,
   "metadata": {},
   "outputs": [],
   "source": [
    "violent_crime = test.groupby('Labels').median().corr()['violent_crime']\n",
    "strongest_positive = list(violent_crime[violent_crime>0.50].index)\n",
    "strongest_positive"
   ]
  },
  {
   "cell_type": "markdown",
   "metadata": {},
   "source": [
    "### Strongest Negative Correlations"
   ]
  },
  {
   "cell_type": "code",
   "execution_count": null,
   "metadata": {},
   "outputs": [],
   "source": [
    "violent_crime = test.groupby('Labels').median().corr()['violent_crime']\n",
    "strongest_negative = list(violent_crime[violent_crime<-0.50].index)\n",
    "strongest_negative"
   ]
  },
  {
   "cell_type": "code",
   "execution_count": null,
   "metadata": {},
   "outputs": [],
   "source": [
    "test"
   ]
  },
  {
   "cell_type": "code",
   "execution_count": null,
   "metadata": {},
   "outputs": [],
   "source": [
    "relevant_columns = test[['city_merge_name','Year']+strongest_positive+strongest_negative+['Labels']]"
   ]
  },
  {
   "cell_type": "code",
   "execution_count": null,
   "metadata": {},
   "outputs": [],
   "source": [
    "ProfileReport(relevant_columns)"
   ]
  },
  {
   "cell_type": "code",
   "execution_count": null,
   "metadata": {},
   "outputs": [],
   "source": [
    "ProfileReport(test[test.Group==lowest_crime][list(test.columns[:5])+list(test.columns[17:18])+list(test.columns[23:34])])"
   ]
  },
  {
   "cell_type": "code",
   "execution_count": null,
   "metadata": {},
   "outputs": [],
   "source": [
    "res= test.groupby(['Group','Year']).mean().reset_index().sort_values(by=[\"Year\",\"Group\"])\n",
    "res.head()"
   ]
  },
  {
   "cell_type": "code",
   "execution_count": null,
   "metadata": {},
   "outputs": [],
   "source": [
    "plt.figure(figsize=(15,8))\n",
    "\n",
    "\n",
    "ax = sns.lineplot(data = res, x='Year',y='violent_crime',hue=\"Group\",palette=\"deep\")\n",
    "ax.spines['bottom'].set_color('#dddddd')\n",
    "ax.spines['left'].set_color('#dddddd')\n",
    "sns.despine(left=False, bottom=False, right=True)\n",
    "ax.tick_params(direction='out', length=6, width=2, colors=\"#5B5B5B\")\n",
    "               #grid_color='r', grid_alpha=0.5)\n",
    "_ = ax.set_title('Violent Crime Over Time', color='#5B5B5B',loc='left',pad=25.0,fontweight=\"bold\")\n",
    "ax.set_ylabel('Violent Crime Rate (Per Capita)',color='#5B5B5B')"
   ]
  },
  {
   "cell_type": "code",
   "execution_count": null,
   "metadata": {},
   "outputs": [],
   "source": [
    "test.columns"
   ]
  },
  {
   "cell_type": "code",
   "execution_count": null,
   "metadata": {},
   "outputs": [],
   "source": [
    "plt.figure(figsize=(15,8))\n",
    "\n",
    "\n",
    "ax = sns.lineplot(data = res, x='Year',y='violent_crime',hue=\"Group\",palette=\"deep\")\n",
    "ax.spines['bottom'].set_color('#dddddd')\n",
    "ax.spines['left'].set_color('#dddddd')\n",
    "sns.despine(left=False, bottom=False, right=True)\n",
    "ax.tick_params(direction='out', length=6, width=2, colors=\"#5B5B5B\")\n",
    "               #grid_color='r', grid_alpha=0.5)\n",
    "_ = ax.set_title('Violent Crime Over Time', color='#5B5B5B',loc='left',pad=25.0,fontweight=\"bold\")\n",
    "ax.set_ylabel('Violent Crime Rate (Per Capita)',color='#5B5B5B')"
   ]
  },
  {
   "cell_type": "markdown",
   "metadata": {},
   "source": [
    "### Save Data"
   ]
  },
  {
   "cell_type": "code",
   "execution_count": null,
   "metadata": {},
   "outputs": [],
   "source": [
    "merged_df3.to_csv('CleanData/CompleteMerged.csv',index=False)"
   ]
  }
 ],
 "metadata": {
  "kernelspec": {
   "display_name": "Python 3",
   "language": "python",
   "name": "python3"
  },
  "language_info": {
   "codemirror_mode": {
    "name": "ipython",
    "version": 3
   },
   "file_extension": ".py",
   "mimetype": "text/x-python",
   "name": "python",
   "nbconvert_exporter": "python",
   "pygments_lexer": "ipython3",
   "version": "3.7.3"
  }
 },
 "nbformat": 4,
 "nbformat_minor": 2
}
