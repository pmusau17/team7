{
 "cells": [
  {
   "cell_type": "code",
   "execution_count": 111,
   "metadata": {},
   "outputs": [],
   "source": [
    "import pandas as pd\n",
    "import numpy as np\n",
    "import re \n",
    "#import geopandas as gpd\n",
    "import pandas as pd\n",
    "import json\n",
    "import datetime\n",
    "import matplotlib.dates as mdates\n",
    "import matplotlib.pyplot as plt\n",
    "import seaborn as sns\n",
    "sns.set()\n",
    "sns.set_theme(style=\"whitegrid\")\n",
    "import warnings\n",
    "\n",
    "warnings.filterwarnings(\"ignore\")"
   ]
  },
  {
   "cell_type": "code",
   "execution_count": 112,
   "metadata": {},
   "outputs": [
    {
     "data": {
      "text/html": [
       "<div>\n",
       "<style scoped>\n",
       "    .dataframe tbody tr th:only-of-type {\n",
       "        vertical-align: middle;\n",
       "    }\n",
       "\n",
       "    .dataframe tbody tr th {\n",
       "        vertical-align: top;\n",
       "    }\n",
       "\n",
       "    .dataframe thead th {\n",
       "        text-align: right;\n",
       "    }\n",
       "</style>\n",
       "<table border=\"1\" class=\"dataframe\">\n",
       "  <thead>\n",
       "    <tr style=\"text-align: right;\">\n",
       "      <th></th>\n",
       "      <th>city_merge_name</th>\n",
       "      <th>population</th>\n",
       "      <th>city_population</th>\n",
       "      <th>year</th>\n",
       "      <th>violent_crime</th>\n",
       "      <th>property_crime</th>\n",
       "      <th>rev_total</th>\n",
       "      <th>police</th>\n",
       "      <th>education_services</th>\n",
       "      <th>education</th>\n",
       "      <th>educ_higher</th>\n",
       "      <th>educ_elem_sec</th>\n",
       "      <th>social_services</th>\n",
       "      <th>public_welfare</th>\n",
       "      <th>welfare_cash</th>\n",
       "      <th>welfare_vendors</th>\n",
       "      <th>welfare_other</th>\n",
       "      <th>correction</th>\n",
       "      <th>parks_recreation</th>\n",
       "      <th>housing_commdevt</th>\n",
       "    </tr>\n",
       "  </thead>\n",
       "  <tbody>\n",
       "    <tr>\n",
       "      <th>0</th>\n",
       "      <td>Anchorage, AK</td>\n",
       "      <td>260900</td>\n",
       "      <td>259348</td>\n",
       "      <td>2000</td>\n",
       "      <td>0.005841</td>\n",
       "      <td>0.043473</td>\n",
       "      <td>5523.35</td>\n",
       "      <td>352.61</td>\n",
       "      <td>2426.51</td>\n",
       "      <td>2386.40</td>\n",
       "      <td>0.0</td>\n",
       "      <td>2386.40</td>\n",
       "      <td>195.60</td>\n",
       "      <td>0.0</td>\n",
       "      <td>0.0</td>\n",
       "      <td>0.0</td>\n",
       "      <td>0.0</td>\n",
       "      <td>0.0</td>\n",
       "      <td>213.45</td>\n",
       "      <td>0.0</td>\n",
       "    </tr>\n",
       "    <tr>\n",
       "      <th>1</th>\n",
       "      <td>Anchorage, AK</td>\n",
       "      <td>263588</td>\n",
       "      <td>260816</td>\n",
       "      <td>2001</td>\n",
       "      <td>0.006632</td>\n",
       "      <td>0.043500</td>\n",
       "      <td>4831.29</td>\n",
       "      <td>594.42</td>\n",
       "      <td>2281.82</td>\n",
       "      <td>2251.80</td>\n",
       "      <td>0.0</td>\n",
       "      <td>2251.80</td>\n",
       "      <td>138.03</td>\n",
       "      <td>0.0</td>\n",
       "      <td>0.0</td>\n",
       "      <td>0.0</td>\n",
       "      <td>0.0</td>\n",
       "      <td>0.0</td>\n",
       "      <td>266.67</td>\n",
       "      <td>0.0</td>\n",
       "    </tr>\n",
       "    <tr>\n",
       "      <th>2</th>\n",
       "      <td>Anchorage, AK</td>\n",
       "      <td>267280</td>\n",
       "      <td>264274</td>\n",
       "      <td>2002</td>\n",
       "      <td>0.006439</td>\n",
       "      <td>0.044706</td>\n",
       "      <td>4914.64</td>\n",
       "      <td>708.42</td>\n",
       "      <td>2455.38</td>\n",
       "      <td>2426.06</td>\n",
       "      <td>0.0</td>\n",
       "      <td>2426.06</td>\n",
       "      <td>165.42</td>\n",
       "      <td>0.0</td>\n",
       "      <td>0.0</td>\n",
       "      <td>0.0</td>\n",
       "      <td>0.0</td>\n",
       "      <td>0.0</td>\n",
       "      <td>285.35</td>\n",
       "      <td>0.0</td>\n",
       "    </tr>\n",
       "    <tr>\n",
       "      <th>3</th>\n",
       "      <td>Anchorage, AK</td>\n",
       "      <td>282940</td>\n",
       "      <td>268229</td>\n",
       "      <td>2003</td>\n",
       "      <td>0.006789</td>\n",
       "      <td>0.045483</td>\n",
       "      <td>4463.29</td>\n",
       "      <td>320.32</td>\n",
       "      <td>2590.59</td>\n",
       "      <td>2561.61</td>\n",
       "      <td>0.0</td>\n",
       "      <td>2561.61</td>\n",
       "      <td>176.95</td>\n",
       "      <td>0.0</td>\n",
       "      <td>0.0</td>\n",
       "      <td>0.0</td>\n",
       "      <td>0.0</td>\n",
       "      <td>0.0</td>\n",
       "      <td>121.36</td>\n",
       "      <td>0.0</td>\n",
       "    </tr>\n",
       "    <tr>\n",
       "      <th>4</th>\n",
       "      <td>Anchorage, AK</td>\n",
       "      <td>286671</td>\n",
       "      <td>270568</td>\n",
       "      <td>2004</td>\n",
       "      <td>0.008062</td>\n",
       "      <td>0.038187</td>\n",
       "      <td>5007.39</td>\n",
       "      <td>325.37</td>\n",
       "      <td>2627.83</td>\n",
       "      <td>2599.76</td>\n",
       "      <td>0.0</td>\n",
       "      <td>2599.76</td>\n",
       "      <td>143.11</td>\n",
       "      <td>0.0</td>\n",
       "      <td>0.0</td>\n",
       "      <td>0.0</td>\n",
       "      <td>0.0</td>\n",
       "      <td>0.0</td>\n",
       "      <td>136.75</td>\n",
       "      <td>0.0</td>\n",
       "    </tr>\n",
       "  </tbody>\n",
       "</table>\n",
       "</div>"
      ],
      "text/plain": [
       "  city_merge_name  population  city_population  year  violent_crime  \\\n",
       "0   Anchorage, AK      260900           259348  2000       0.005841   \n",
       "1   Anchorage, AK      263588           260816  2001       0.006632   \n",
       "2   Anchorage, AK      267280           264274  2002       0.006439   \n",
       "3   Anchorage, AK      282940           268229  2003       0.006789   \n",
       "4   Anchorage, AK      286671           270568  2004       0.008062   \n",
       "\n",
       "   property_crime  rev_total  police  education_services  education  \\\n",
       "0        0.043473    5523.35  352.61             2426.51    2386.40   \n",
       "1        0.043500    4831.29  594.42             2281.82    2251.80   \n",
       "2        0.044706    4914.64  708.42             2455.38    2426.06   \n",
       "3        0.045483    4463.29  320.32             2590.59    2561.61   \n",
       "4        0.038187    5007.39  325.37             2627.83    2599.76   \n",
       "\n",
       "   educ_higher  educ_elem_sec  social_services  public_welfare  welfare_cash  \\\n",
       "0          0.0        2386.40           195.60             0.0           0.0   \n",
       "1          0.0        2251.80           138.03             0.0           0.0   \n",
       "2          0.0        2426.06           165.42             0.0           0.0   \n",
       "3          0.0        2561.61           176.95             0.0           0.0   \n",
       "4          0.0        2599.76           143.11             0.0           0.0   \n",
       "\n",
       "   welfare_vendors  welfare_other  correction  parks_recreation  \\\n",
       "0              0.0            0.0         0.0            213.45   \n",
       "1              0.0            0.0         0.0            266.67   \n",
       "2              0.0            0.0         0.0            285.35   \n",
       "3              0.0            0.0         0.0            121.36   \n",
       "4              0.0            0.0         0.0            136.75   \n",
       "\n",
       "   housing_commdevt  \n",
       "0               0.0  \n",
       "1               0.0  \n",
       "2               0.0  \n",
       "3               0.0  \n",
       "4               0.0  "
      ]
     },
     "execution_count": 112,
     "metadata": {},
     "output_type": "execute_result"
    }
   ],
   "source": [
    "budgets_fbi = pd.read_csv('CleanData/Merged_FBI_Budgets_Normalized.csv')\n",
    "budgets_fbi.head()"
   ]
  },
  {
   "cell_type": "markdown",
   "metadata": {},
   "source": [
    "### Load the Income Data"
   ]
  },
  {
   "cell_type": "code",
   "execution_count": 114,
   "metadata": {},
   "outputs": [],
   "source": [
    "income_data= pd.read_csv('CleanData/DPI_Clean.csv')\n",
    "povertydf = pd.read_csv('CleanData/Demographics.csv')\n",
    "racedf = pd.read_csv('CleanData/Race.csv')\n",
    "racedf = racedf[racedf['geographic_area_name'].notnull()]\n",
    "\n",
    "\n",
    "income_data.loc[income_data.loc[income_data['city'].str.contains('Fort Smith, AR')].index.values,'city'] = 'Ft. Smith, AR'\n",
    "income_data.loc[income_data.loc[income_data['city'].str.contains('Boise City, ID')].index.values,'city'] = 'Boise, ID'\n",
    "income_data.loc[income_data.loc[income_data['city'].str.contains('Louisville/Jefferson County, KY')].index.values,'city'] = 'Louisville, KY'\n",
    "\n",
    "povertydf.loc[povertydf.loc[povertydf['city_name'].str.contains('Fort Smith, AR')].index.values,'city_name'] = 'Ft. Smith, AR'\n",
    "povertydf.loc[povertydf.loc[povertydf['city_name'].str.contains('Boise City, ID')].index.values,'city_name'] = 'Boise, ID'\n",
    "povertydf.loc[povertydf.loc[povertydf['city_name'].str.contains('Louisville/Jefferson County, KY')].index.values,'city_name'] = 'Louisville, KY'\n",
    "\n",
    "racedf.loc[racedf.loc[racedf['geographic_area_name'].str.contains('Fort Smith, AR')].index.values,'geographic_area_name'] = 'Ft. Smith, AR'\n",
    "racedf.loc[racedf.loc[racedf['geographic_area_name'].str.contains('Boise City, ID')].index.values,'geographic_area_name'] = 'Boise, ID'\n",
    "racedf.loc[racedf.loc[racedf['geographic_area_name'].str.contains('Louisville/Jefferson County, KY')].index.values,'geographic_area_name'] = 'Louisville, KY'"
   ]
  },
  {
   "cell_type": "code",
   "execution_count": 115,
   "metadata": {},
   "outputs": [
    {
     "data": {
      "text/plain": [
       "(119,)"
      ]
     },
     "execution_count": 115,
     "metadata": {},
     "output_type": "execute_result"
    }
   ],
   "source": [
    "merged_df = budgets_fbi.merge(income_data,left_on=['city_merge_name','year'],right_on = ['city','Year'],how='inner')\n",
    "merged_df.city.unique().shape"
   ]
  },
  {
   "cell_type": "markdown",
   "metadata": {},
   "source": [
    "### Lost Cities"
   ]
  },
  {
   "cell_type": "code",
   "execution_count": 116,
   "metadata": {},
   "outputs": [
    {
     "name": "stdout",
     "output_type": "stream",
     "text": [
      "Oakland, CA\n",
      "Wilmington, DE\n",
      "Ft. Lauderdale, FL\n",
      "St. Petersburg, FL\n",
      "Ft. Wayne, IN\n",
      "Gary, IN\n",
      "Kansas City, KS\n",
      "St. Paul, MN\n",
      "Ft. Worth, TX\n",
      "Norfolk, VA\n",
      "Tacoma, WA\n"
     ]
    }
   ],
   "source": [
    "for i in budgets_fbi.city_merge_name.unique():\n",
    "    if i not in merged_df.city.unique():\n",
    "        print(i)"
   ]
  },
  {
   "cell_type": "code",
   "execution_count": 117,
   "metadata": {},
   "outputs": [
    {
     "data": {
      "text/plain": [
       "(118,)"
      ]
     },
     "execution_count": 117,
     "metadata": {},
     "output_type": "execute_result"
    }
   ],
   "source": [
    "merged_df2 = merged_df.merge(povertydf,left_on=['city_merge_name','year'],right_on = ['city_name','Year'],how='inner')\n",
    "merged_df2.city.unique().shape"
   ]
  },
  {
   "cell_type": "code",
   "execution_count": 118,
   "metadata": {},
   "outputs": [
    {
     "name": "stdout",
     "output_type": "stream",
     "text": [
      "Boise, ID\n"
     ]
    }
   ],
   "source": [
    "for i in merged_df.city_merge_name.unique():\n",
    "    if i not in merged_df2.city.unique():\n",
    "        print(i)"
   ]
  },
  {
   "cell_type": "code",
   "execution_count": 119,
   "metadata": {},
   "outputs": [
    {
     "data": {
      "text/plain": [
       "(118,)"
      ]
     },
     "execution_count": 119,
     "metadata": {},
     "output_type": "execute_result"
    }
   ],
   "source": [
    "merged_df3 = merged_df2.merge(racedf,left_on=['city_merge_name','year'],right_on = ['geographic_area_name','Year'],how='inner')\n",
    "merged_df3.city.unique().shape"
   ]
  },
  {
   "cell_type": "code",
   "execution_count": 120,
   "metadata": {},
   "outputs": [
    {
     "name": "stdout",
     "output_type": "stream",
     "text": [
      "Boise, ID\n"
     ]
    }
   ],
   "source": [
    "for i in merged_df.city_merge_name.unique():\n",
    "    if i not in merged_df3.city.unique():\n",
    "        print(i)"
   ]
  },
  {
   "cell_type": "code",
   "execution_count": 129,
   "metadata": {},
   "outputs": [
    {
     "data": {
      "text/html": [
       "<div>\n",
       "<style scoped>\n",
       "    .dataframe tbody tr th:only-of-type {\n",
       "        vertical-align: middle;\n",
       "    }\n",
       "\n",
       "    .dataframe tbody tr th {\n",
       "        vertical-align: top;\n",
       "    }\n",
       "\n",
       "    .dataframe thead th {\n",
       "        text-align: right;\n",
       "    }\n",
       "</style>\n",
       "<table border=\"1\" class=\"dataframe\">\n",
       "  <thead>\n",
       "    <tr style=\"text-align: right;\">\n",
       "      <th></th>\n",
       "      <th>city</th>\n",
       "      <th>Year</th>\n",
       "    </tr>\n",
       "  </thead>\n",
       "  <tbody>\n",
       "    <tr>\n",
       "      <th>599</th>\n",
       "      <td>Boise, ID</td>\n",
       "      <td>2000</td>\n",
       "    </tr>\n",
       "    <tr>\n",
       "      <th>600</th>\n",
       "      <td>Boise, ID</td>\n",
       "      <td>2001</td>\n",
       "    </tr>\n",
       "    <tr>\n",
       "      <th>601</th>\n",
       "      <td>Boise, ID</td>\n",
       "      <td>2002</td>\n",
       "    </tr>\n",
       "  </tbody>\n",
       "</table>\n",
       "</div>"
      ],
      "text/plain": [
       "          city  Year\n",
       "599  Boise, ID  2000\n",
       "600  Boise, ID  2001\n",
       "601  Boise, ID  2002"
      ]
     },
     "execution_count": 129,
     "metadata": {},
     "output_type": "execute_result"
    }
   ],
   "source": [
    "merged_df[['city','Year']][merged_df['city_merge_name'].str.contains('ID')]"
   ]
  },
  {
   "cell_type": "code",
   "execution_count": null,
   "metadata": {},
   "outputs": [],
   "source": []
  }
 ],
 "metadata": {
  "kernelspec": {
   "display_name": "Python 3",
   "language": "python",
   "name": "python3"
  },
  "language_info": {
   "codemirror_mode": {
    "name": "ipython",
    "version": 3
   },
   "file_extension": ".py",
   "mimetype": "text/x-python",
   "name": "python",
   "nbconvert_exporter": "python",
   "pygments_lexer": "ipython3",
   "version": "3.7.3"
  }
 },
 "nbformat": 4,
 "nbformat_minor": 2
}
